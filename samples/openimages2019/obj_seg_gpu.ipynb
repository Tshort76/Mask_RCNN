{
 "cells": [
  {
   "cell_type": "markdown",
   "metadata": {
    "heading_collapsed": true
   },
   "source": [
    "# Basic imports for Mask R-CNN"
   ]
  },
  {
   "cell_type": "code",
   "execution_count": 1,
   "metadata": {
    "ExecuteTime": {
     "end_time": "2019-09-18T16:35:50.054293Z",
     "start_time": "2019-09-18T16:35:47.025586Z"
    },
    "hidden": true,
    "scrolled": true
   },
   "outputs": [
    {
     "name": "stderr",
     "output_type": "stream",
     "text": [
      "Using TensorFlow backend.\n"
     ]
    }
   ],
   "source": [
    "import os\n",
    "import sys\n",
    "import random\n",
    "import math\n",
    "import re\n",
    "import time\n",
    "import numpy as np\n",
    "import cv2\n",
    "import matplotlib\n",
    "import matplotlib.pyplot as plt\n",
    "\n",
    "# Root directory of the project\n",
    "ROOT_DIR = os.path.abspath(\"../../\")\n",
    "\n",
    "# Import Mask RCNN\n",
    "sys.path.append(ROOT_DIR)  # To find local version of the library\n",
    "from mrcnn.config import Config\n",
    "from mrcnn import utils\n",
    "import mrcnn.model as modellib\n",
    "from mrcnn import visualize\n",
    "from mrcnn.model import log\n",
    "\n",
    "from skimage import transform\n",
    "import skimage.io\n",
    "\n",
    "\n",
    "%matplotlib inline \n",
    "\n",
    "# Directory to save logs and trained model\n",
    "MODEL_DIR = os.path.join(ROOT_DIR, \"logs\")\n",
    "\n",
    "DATA_DIR = os.path.join(ROOT_DIR, \"../data\")\n",
    "\n",
    "MASK_DIR  = os.path.join(DATA_DIR,'segmentation')\n",
    "\n",
    "# Local path to trained weights file\n",
    "COCO_MODEL_PATH = os.path.join(DATA_DIR, \"mask_rcnn_coco.h5\")\n",
    "\n",
    "#Make GPUs visible\n",
    "!export HIP_VISIBLE_DEVICES=1,2,3\n",
    "\n",
    "#Set which GPU devices' memory should be accessible to running GPUs\n",
    "os.environ[\"CUDA_VISIBLE_DEVICES\"]=\"1,2,3\"\n",
    "\n",
    "#Make only 1 GPU visible\n",
    "# !export HIP_VISIBLE_DEVICES=2,3\n",
    "\n",
    "#Set which GPU devices' memory should be accessible to running GPUs\n",
    "# os.environ[\"CUDA_VISIBLE_DEVICES\"]=\"2,3\"\n",
    "\n",
    "# Download COCO trained weights from Releases if needed\n",
    "# if not os.path.exists(COCO_MODEL_PATH):\n",
    "#     utils.download_trained_weights(COCO_MODEL_PATH)\n",
    "\n",
    "def get_ax(rows=1, cols=1, size=8):\n",
    "    \"\"\"Return a Matplotlib Axes array to be used in\n",
    "    all visualizations in the notebook. Provide a\n",
    "    central point to control graph sizes.\n",
    "    \n",
    "    Change the default size attribute to control the size\n",
    "    of rendered images\n",
    "    \"\"\"\n",
    "    _, ax = plt.subplots(rows, cols, figsize=(size*cols, size*rows))\n",
    "    return ax"
   ]
  },
  {
   "cell_type": "markdown",
   "metadata": {},
   "source": [
    "# Pull in annotations from database (from Simplot)"
   ]
  },
  {
   "cell_type": "code",
   "execution_count": null,
   "metadata": {
    "ExecuteTime": {
     "end_time": "2019-09-18T16:36:43.762051Z",
     "start_time": "2019-09-18T16:35:55.952812Z"
    }
   },
   "outputs": [],
   "source": [
    "import pyodbc\n",
    "import os\n",
    "import pandas as pd\n",
    "\n",
    "DATA_DIR = os.path.join(ROOT_DIR, \"../data\")\n",
    "\n",
    "COCO_MODEL_PATH = os.path.join(DATA_DIR, \"mask_rcnn_coco.h5\")\n",
    "\n",
    "ANNOTATION_COLS = ['XMax','XMin','YMin','YMax','LabelDescription']\n",
    "\n",
    "passwd = os.environ['dgs_sandbox_pwd']\n",
    "\n",
    "conn = pyodbc.connect('DSN=BIdevDatabase;'\n",
    "                      'Database=Sandbox;'\n",
    "                      'UID=DGSuser;'\n",
    "                      'PWD=' + passwd)\n",
    "\n",
    "\n",
    "class_descriptions = pd.read_csv(os.path.join(DATA_DIR, \"seg_class_descriptions.csv\"))\n",
    "\n",
    "#add 1 since Background class is automatically added at index 0\n",
    "class_descriptions['LabelID'] = class_descriptions.index + 1\n",
    "\n",
    "#This now holds the annotation information.\n",
    "# bboxes = pd.read_sql(\"SELECT ImageID, XMax, XMin, YMin, YMax, LabelName FROM [Sandbox].[kaggle].[Combined_Set_Detection_BBox]\", conn)\n",
    "\n",
    "seg_anns = pd.read_sql(\"SELECT MaskPath, ImageID, LabelName, BoxID, BoxXMin, BoxXMax, BoxYMin, BoxYMax, PredictedIoU, Clicks, SourceDataset from [kaggle].[Combined_Annotations_Object_Segmentation]\", conn)\n",
    "\n",
    "annotations = pd.merge(seg_anns,class_descriptions, on='LabelName',how='inner')\n",
    "\n",
    "# This now holds the list of images\n",
    "image_paths = pd.read_sql(\"SELECT ImageID, RelativePath, Height, Width, Mode from [kaggle].[Image_Path]\", conn)\n",
    "\n",
    "# Inner join on the two dataframes, so we now have images combined with associated annotations\n",
    "annotated_image_paths = pd.merge(image_paths,annotations, on='ImageID',how='inner')\n",
    "\n",
    "display(annotated_image_paths.head())"
   ]
  },
  {
   "cell_type": "markdown",
   "metadata": {
    "heading_collapsed": true
   },
   "source": [
    "# Configurations"
   ]
  },
  {
   "cell_type": "code",
   "execution_count": null,
   "metadata": {
    "ExecuteTime": {
     "end_time": "2019-09-18T16:36:43.773290Z",
     "start_time": "2019-09-18T16:36:43.765088Z"
    },
    "hidden": true,
    "scrolled": true
   },
   "outputs": [],
   "source": [
    "class KaggleConfig(Config):\n",
    "    \n",
    "    NAME = \"kaggle\"\n",
    "\n",
    "    #TODO experiment with this\n",
    "    GPU_COUNT = 3\n",
    "    IMAGES_PER_GPU = 4  # TODO how many can we use, authors had 2 for 12 GB, we have 32 GB so ...\n",
    "    \n",
    "    # Number of classes (including background)\n",
    "    NUM_CLASSES = 1 + len(class_descriptions)  # + 1 for background\n",
    "\n",
    "    IMAGE_MIN_DIM = 512\n",
    "    IMAGE_MAX_DIM = 512\n",
    "    \n",
    "    # Skip detections with < 90% confidence\n",
    "    DETECTION_MIN_CONFIDENCE = 0.85\n",
    "    \n",
    "config = KaggleConfig()\n",
    "config.display()"
   ]
  },
  {
   "cell_type": "markdown",
   "metadata": {},
   "source": [
    "# Subclass utils.Dataset for entire experiment"
   ]
  },
  {
   "cell_type": "code",
   "execution_count": 4,
   "metadata": {
    "ExecuteTime": {
     "end_time": "2019-09-18T16:36:43.785869Z",
     "start_time": "2019-09-18T16:36:43.776843Z"
    }
   },
   "outputs": [],
   "source": [
    "class SegKaggleImageDataset(utils.Dataset):\n",
    "         \n",
    "    def load_kaggle_images(self, dataset_dir, grouped_by_images):\n",
    "        \"\"\"Load a subset of the image dataset.\n",
    "        dataset_dir: The root directory of the image dataset.\n",
    "        classes: Dataframe : If provided, only loads images that have the given classes.\n",
    "        \"\"\"\n",
    "\n",
    "        # Add classes, BG is automatically added at index 0\n",
    "        for _,row in class_descriptions.iterrows():\n",
    "            self.add_class(\"openImages\", row['LabelID'], row['LabelDescription'])\n",
    "        \n",
    "        # Add images\n",
    "        for i,df in grouped_by_images:    \n",
    "            row = df.iloc[0]\n",
    "            \n",
    "            self.add_image(\n",
    "                \"openImages\", image_id=i,\n",
    "                path=os.path.join(dataset_dir, row['RelativePath']),\n",
    "                width=row[\"Width\"],\n",
    "                height=row[\"Height\"],\n",
    "                annotations=df)\n",
    "    \n",
    "\n",
    "    def load_mask(self, image_id):\n",
    "        \"\"\"Generate instance masks for an image.  Based on the nucleus sample\n",
    "        \n",
    "       Returns:\n",
    "        masks: A bool array of shape [height, width, instance count] with\n",
    "            one mask per instance.\n",
    "        class_ids: a 1D array of class IDs of the instance masks.\n",
    "        \"\"\"\n",
    "        \n",
    "        # Create rectangular bounding box since we are doing object detection, not segmentation\n",
    "        # desired dimension is [height, width, instance_count]\n",
    "        img = self.image_info[image_id]\n",
    "        \n",
    "        masks = []\n",
    "        \n",
    "        for i,(_,p) in enumerate(img[\"annotations\"].iterrows()):   \n",
    "            mpath = os.path.join(MASK_DIR, p['MaskPath'])\n",
    "            raw_mask = skimage.io.imread(mpath)\n",
    "            # mask is often not the same size as the image, resize the mask so that it is\n",
    "            masks.append(transform.resize(raw_mask,(img['height'],img['width'])))\n",
    "\n",
    "        mask = np.stack(masks, axis=-1)\n",
    "        \n",
    "        return mask,np.array(img['annotations']['LabelID'].values, dtype=np.int32)\n",
    "\n",
    "    def image_reference(self, image_id):\n",
    "        return self.image_info[image_id]['path']\n",
    "    "
   ]
  },
  {
   "cell_type": "markdown",
   "metadata": {},
   "source": [
    "# Load dataset and display samples"
   ]
  },
  {
   "cell_type": "markdown",
   "metadata": {
    "heading_collapsed": true
   },
   "source": [
    "## Instantiate the Full Kaggle Image Dataset classes"
   ]
  },
  {
   "cell_type": "code",
   "execution_count": 5,
   "metadata": {
    "ExecuteTime": {
     "end_time": "2019-09-18T16:44:03.069830Z",
     "start_time": "2019-09-18T16:36:43.788704Z"
    },
    "hidden": true
   },
   "outputs": [],
   "source": [
    "def load_dataset(source_str):\n",
    "    seg_paths = annotated_image_paths[annotated_image_paths['SourceDataset'] == source_str]\n",
    "\n",
    "    seg_grouped = seg_paths.groupby('ImageID')\n",
    "    \n",
    "    dataset_seg = SegKaggleImageDataset()\n",
    "    dataset_seg.load_kaggle_images(DATA_DIR, seg_grouped)\n",
    "    dataset_seg.prepare()\n",
    "    \n",
    "    return dataset_seg\n",
    "\n",
    "\n",
    "dataset_train = load_dataset('train')\n",
    "dataset_val = load_dataset('validation')"
   ]
  },
  {
   "cell_type": "markdown",
   "metadata": {
    "hidden": true
   },
   "source": [
    "### Sanity check that masks look alright"
   ]
  },
  {
   "cell_type": "code",
   "execution_count": null,
   "metadata": {
    "ExecuteTime": {
     "end_time": "2019-09-17T20:33:31.721492Z",
     "start_time": "2019-09-17T20:33:29.496998Z"
    },
    "hidden": true
   },
   "outputs": [],
   "source": [
    "# Load and display random samples ... sanity check for data load\n",
    "def display_mask_samples(dataset):\n",
    "    image_ids = np.random.choice(dataset.image_ids, 5)\n",
    "\n",
    "    for image_id in image_ids:\n",
    "        image = dataset.load_image(image_id)\n",
    "        mask, class_ids = dataset.load_mask(image_id)\n",
    "        visualize.display_top_masks(image, mask, class_ids, dataset.class_names)\n",
    "        \n",
    "display_mask_samples(dataset_val)"
   ]
  },
  {
   "cell_type": "markdown",
   "metadata": {},
   "source": [
    "# Training"
   ]
  },
  {
   "cell_type": "markdown",
   "metadata": {},
   "source": [
    "## Create model and load prior weights"
   ]
  },
  {
   "cell_type": "code",
   "execution_count": 12,
   "metadata": {
    "ExecuteTime": {
     "end_time": "2019-09-18T20:00:23.430592Z",
     "start_time": "2019-09-18T19:59:59.805587Z"
    },
    "scrolled": true
   },
   "outputs": [],
   "source": [
    "# Create model in training mode\n",
    "model = modellib.MaskRCNN(mode=\"training\", config=config,\n",
    "                          model_dir=MODEL_DIR)"
   ]
  },
  {
   "cell_type": "code",
   "execution_count": 13,
   "metadata": {
    "ExecuteTime": {
     "end_time": "2019-09-18T20:00:37.312696Z",
     "start_time": "2019-09-18T20:00:23.434372Z"
    },
    "scrolled": true
   },
   "outputs": [
    {
     "name": "stdout",
     "output_type": "stream",
     "text": [
      "Re-starting from epoch 600\n"
     ]
    }
   ],
   "source": [
    "# Which weights to start with?\n",
    "init_with = \"last\"  # imagenet, coco, or last\n",
    "\n",
    "if init_with == \"imagenet\":\n",
    "    model.load_weights(model.get_imagenet_weights(), by_name=True)\n",
    "elif init_with == \"coco\":\n",
    "    # Load weights trained on MS COCO, but skip layers that\n",
    "    # are different due to the different number of classes\n",
    "    # See README for instructions to download the COCO weights\n",
    "    model.load_weights(COCO_MODEL_PATH, by_name=True,\n",
    "                       exclude=[\"mrcnn_class_logits\", \"mrcnn_bbox_fc\", \n",
    "                                \"mrcnn_bbox\", \"mrcnn_mask\"])\n",
    "elif init_with == \"last\":\n",
    "    # Load the last model you trained and continue training\n",
    "    model.load_weights(model.find_last(), by_name=True)"
   ]
  },
  {
   "cell_type": "markdown",
   "metadata": {},
   "source": [
    "## Train\n",
    "\n",
    "Train in two stages:\n",
    "1. Only the heads. Here we're freezing all the backbone layers and training only the randomly initialized layers (i.e. the ones that we didn't use pre-trained weights from MS COCO). To train only the head layers, pass `layers='heads'` to the `train()` function.\n",
    "\n",
    "2. Fine-tune all layers. For this simple example it's not necessary, but we're including it to show the process. Simply pass `layers=\"all` to train all layers."
   ]
  },
  {
   "cell_type": "code",
   "execution_count": null,
   "metadata": {
    "ExecuteTime": {
     "end_time": "2019-09-18T16:00:29.013395Z",
     "start_time": "2019-09-18T16:00:29.010040Z"
    }
   },
   "outputs": [],
   "source": [
    "# !pip3 install imgaug"
   ]
  },
  {
   "cell_type": "code",
   "execution_count": null,
   "metadata": {
    "ExecuteTime": {
     "start_time": "2019-09-18T20:14:53.389Z"
    },
    "scrolled": true
   },
   "outputs": [
    {
     "name": "stdout",
     "output_type": "stream",
     "text": [
      "\n",
      "Starting at epoch 600. LR=0.0001\n",
      "\n",
      "Checkpoint Path: /home/nbuser/repo/logs/kaggle20190913T1140/mask_rcnn_kaggle_{epoch:04d}.h5\n",
      "Selecting layers to train\n",
      "res4a_branch2a         (Conv2D)\n",
      "bn4a_branch2a          (BatchNorm)\n",
      "res4a_branch2b         (Conv2D)\n",
      "bn4a_branch2b          (BatchNorm)\n",
      "res4a_branch2c         (Conv2D)\n",
      "res4a_branch1          (Conv2D)\n",
      "bn4a_branch2c          (BatchNorm)\n",
      "bn4a_branch1           (BatchNorm)\n",
      "res4b_branch2a         (Conv2D)\n",
      "bn4b_branch2a          (BatchNorm)\n",
      "res4b_branch2b         (Conv2D)\n",
      "bn4b_branch2b          (BatchNorm)\n",
      "res4b_branch2c         (Conv2D)\n",
      "bn4b_branch2c          (BatchNorm)\n",
      "res4c_branch2a         (Conv2D)\n",
      "bn4c_branch2a          (BatchNorm)\n",
      "res4c_branch2b         (Conv2D)\n",
      "bn4c_branch2b          (BatchNorm)\n",
      "res4c_branch2c         (Conv2D)\n",
      "bn4c_branch2c          (BatchNorm)\n",
      "res4d_branch2a         (Conv2D)\n",
      "bn4d_branch2a          (BatchNorm)\n",
      "res4d_branch2b         (Conv2D)\n",
      "bn4d_branch2b          (BatchNorm)\n",
      "res4d_branch2c         (Conv2D)\n",
      "bn4d_branch2c          (BatchNorm)\n",
      "res4e_branch2a         (Conv2D)\n",
      "bn4e_branch2a          (BatchNorm)\n",
      "res4e_branch2b         (Conv2D)\n",
      "bn4e_branch2b          (BatchNorm)\n",
      "res4e_branch2c         (Conv2D)\n",
      "bn4e_branch2c          (BatchNorm)\n",
      "res4f_branch2a         (Conv2D)\n",
      "bn4f_branch2a          (BatchNorm)\n",
      "res4f_branch2b         (Conv2D)\n",
      "bn4f_branch2b          (BatchNorm)\n",
      "res4f_branch2c         (Conv2D)\n",
      "bn4f_branch2c          (BatchNorm)\n",
      "res4g_branch2a         (Conv2D)\n",
      "bn4g_branch2a          (BatchNorm)\n",
      "res4g_branch2b         (Conv2D)\n",
      "bn4g_branch2b          (BatchNorm)\n",
      "res4g_branch2c         (Conv2D)\n",
      "bn4g_branch2c          (BatchNorm)\n",
      "res4h_branch2a         (Conv2D)\n",
      "bn4h_branch2a          (BatchNorm)\n",
      "res4h_branch2b         (Conv2D)\n",
      "bn4h_branch2b          (BatchNorm)\n",
      "res4h_branch2c         (Conv2D)\n",
      "bn4h_branch2c          (BatchNorm)\n",
      "res4i_branch2a         (Conv2D)\n",
      "bn4i_branch2a          (BatchNorm)\n",
      "res4i_branch2b         (Conv2D)\n",
      "bn4i_branch2b          (BatchNorm)\n",
      "res4i_branch2c         (Conv2D)\n",
      "bn4i_branch2c          (BatchNorm)\n",
      "res4j_branch2a         (Conv2D)\n",
      "bn4j_branch2a          (BatchNorm)\n",
      "res4j_branch2b         (Conv2D)\n",
      "bn4j_branch2b          (BatchNorm)\n",
      "res4j_branch2c         (Conv2D)\n",
      "bn4j_branch2c          (BatchNorm)\n",
      "res4k_branch2a         (Conv2D)\n",
      "bn4k_branch2a          (BatchNorm)\n",
      "res4k_branch2b         (Conv2D)\n",
      "bn4k_branch2b          (BatchNorm)\n",
      "res4k_branch2c         (Conv2D)\n",
      "bn4k_branch2c          (BatchNorm)\n",
      "res4l_branch2a         (Conv2D)\n",
      "bn4l_branch2a          (BatchNorm)\n",
      "res4l_branch2b         (Conv2D)\n",
      "bn4l_branch2b          (BatchNorm)\n",
      "res4l_branch2c         (Conv2D)\n",
      "bn4l_branch2c          (BatchNorm)\n",
      "res4m_branch2a         (Conv2D)\n",
      "bn4m_branch2a          (BatchNorm)\n",
      "res4m_branch2b         (Conv2D)\n",
      "bn4m_branch2b          (BatchNorm)\n",
      "res4m_branch2c         (Conv2D)\n",
      "bn4m_branch2c          (BatchNorm)\n",
      "res4n_branch2a         (Conv2D)\n",
      "bn4n_branch2a          (BatchNorm)\n",
      "res4n_branch2b         (Conv2D)\n",
      "bn4n_branch2b          (BatchNorm)\n",
      "res4n_branch2c         (Conv2D)\n",
      "bn4n_branch2c          (BatchNorm)\n",
      "res4o_branch2a         (Conv2D)\n",
      "bn4o_branch2a          (BatchNorm)\n",
      "res4o_branch2b         (Conv2D)\n",
      "bn4o_branch2b          (BatchNorm)\n",
      "res4o_branch2c         (Conv2D)\n",
      "bn4o_branch2c          (BatchNorm)\n",
      "res4p_branch2a         (Conv2D)\n",
      "bn4p_branch2a          (BatchNorm)\n",
      "res4p_branch2b         (Conv2D)\n",
      "bn4p_branch2b          (BatchNorm)\n",
      "res4p_branch2c         (Conv2D)\n",
      "bn4p_branch2c          (BatchNorm)\n",
      "res4q_branch2a         (Conv2D)\n",
      "bn4q_branch2a          (BatchNorm)\n",
      "res4q_branch2b         (Conv2D)\n",
      "bn4q_branch2b          (BatchNorm)\n",
      "res4q_branch2c         (Conv2D)\n",
      "bn4q_branch2c          (BatchNorm)\n",
      "res4r_branch2a         (Conv2D)\n",
      "bn4r_branch2a          (BatchNorm)\n",
      "res4r_branch2b         (Conv2D)\n",
      "bn4r_branch2b          (BatchNorm)\n",
      "res4r_branch2c         (Conv2D)\n",
      "bn4r_branch2c          (BatchNorm)\n",
      "res4s_branch2a         (Conv2D)\n",
      "bn4s_branch2a          (BatchNorm)\n",
      "res4s_branch2b         (Conv2D)\n",
      "bn4s_branch2b          (BatchNorm)\n",
      "res4s_branch2c         (Conv2D)\n",
      "bn4s_branch2c          (BatchNorm)\n",
      "res4t_branch2a         (Conv2D)\n",
      "bn4t_branch2a          (BatchNorm)\n",
      "res4t_branch2b         (Conv2D)\n",
      "bn4t_branch2b          (BatchNorm)\n",
      "res4t_branch2c         (Conv2D)\n",
      "bn4t_branch2c          (BatchNorm)\n",
      "res4u_branch2a         (Conv2D)\n",
      "bn4u_branch2a          (BatchNorm)\n",
      "res4u_branch2b         (Conv2D)\n",
      "bn4u_branch2b          (BatchNorm)\n",
      "res4u_branch2c         (Conv2D)\n",
      "bn4u_branch2c          (BatchNorm)\n",
      "res4v_branch2a         (Conv2D)\n",
      "bn4v_branch2a          (BatchNorm)\n",
      "res4v_branch2b         (Conv2D)\n",
      "bn4v_branch2b          (BatchNorm)\n",
      "res4v_branch2c         (Conv2D)\n",
      "bn4v_branch2c          (BatchNorm)\n",
      "res4w_branch2a         (Conv2D)\n",
      "bn4w_branch2a          (BatchNorm)\n",
      "res4w_branch2b         (Conv2D)\n",
      "bn4w_branch2b          (BatchNorm)\n",
      "res4w_branch2c         (Conv2D)\n",
      "bn4w_branch2c          (BatchNorm)\n",
      "res5a_branch2a         (Conv2D)\n",
      "bn5a_branch2a          (BatchNorm)\n",
      "res5a_branch2b         (Conv2D)\n",
      "bn5a_branch2b          (BatchNorm)\n",
      "res5a_branch2c         (Conv2D)\n",
      "res5a_branch1          (Conv2D)\n",
      "bn5a_branch2c          (BatchNorm)\n",
      "bn5a_branch1           (BatchNorm)\n",
      "res5b_branch2a         (Conv2D)\n",
      "bn5b_branch2a          (BatchNorm)\n",
      "res5b_branch2b         (Conv2D)\n",
      "bn5b_branch2b          (BatchNorm)\n",
      "res5b_branch2c         (Conv2D)\n",
      "bn5b_branch2c          (BatchNorm)\n",
      "res5c_branch2a         (Conv2D)\n",
      "bn5c_branch2a          (BatchNorm)\n",
      "res5c_branch2b         (Conv2D)\n",
      "bn5c_branch2b          (BatchNorm)\n",
      "res5c_branch2c         (Conv2D)\n",
      "bn5c_branch2c          (BatchNorm)\n",
      "fpn_c5p5               (Conv2D)\n",
      "fpn_c4p4               (Conv2D)\n",
      "fpn_c3p3               (Conv2D)\n",
      "fpn_c2p2               (Conv2D)\n",
      "fpn_p5                 (Conv2D)\n",
      "fpn_p2                 (Conv2D)\n",
      "fpn_p3                 (Conv2D)\n",
      "fpn_p4                 (Conv2D)\n",
      "In model:  rpn_model\n",
      "    rpn_conv_shared        (Conv2D)\n",
      "    rpn_class_raw          (Conv2D)\n",
      "    rpn_bbox_pred          (Conv2D)\n",
      "mrcnn_mask_conv1       (TimeDistributed)\n",
      "mrcnn_mask_bn1         (TimeDistributed)\n",
      "mrcnn_mask_conv2       (TimeDistributed)\n",
      "mrcnn_mask_bn2         (TimeDistributed)\n",
      "mrcnn_class_conv1      (TimeDistributed)\n",
      "mrcnn_class_bn1        (TimeDistributed)\n",
      "mrcnn_mask_conv3       (TimeDistributed)\n",
      "mrcnn_mask_bn3         (TimeDistributed)\n",
      "mrcnn_class_conv2      (TimeDistributed)\n",
      "mrcnn_class_bn2        (TimeDistributed)\n",
      "mrcnn_mask_conv4       (TimeDistributed)\n",
      "mrcnn_mask_bn4         (TimeDistributed)\n",
      "mrcnn_bbox_fc          (TimeDistributed)\n",
      "mrcnn_mask_deconv      (TimeDistributed)\n",
      "mrcnn_class_logits     (TimeDistributed)\n",
      "mrcnn_mask             (TimeDistributed)\n"
     ]
    },
    {
     "name": "stderr",
     "output_type": "stream",
     "text": [
      "/usr/local/lib/python3.6/dist-packages/tensorflow/python/ops/gradients_util.py:93: UserWarning: Converting sparse IndexedSlices to a dense Tensor of unknown shape. This may consume a large amount of memory.\n",
      "  \"Converting sparse IndexedSlices to a dense Tensor of unknown shape. \"\n",
      "/usr/local/lib/python3.6/dist-packages/tensorflow/python/ops/gradients_util.py:93: UserWarning: Converting sparse IndexedSlices to a dense Tensor of unknown shape. This may consume a large amount of memory.\n",
      "  \"Converting sparse IndexedSlices to a dense Tensor of unknown shape. \"\n",
      "/usr/local/lib/python3.6/dist-packages/tensorflow/python/ops/gradients_util.py:93: UserWarning: Converting sparse IndexedSlices to a dense Tensor of unknown shape. This may consume a large amount of memory.\n",
      "  \"Converting sparse IndexedSlices to a dense Tensor of unknown shape. \"\n",
      "/usr/local/lib/python3.6/dist-packages/keras/engine/training_generator.py:47: UserWarning: Using a generator with `use_multiprocessing=True` and multiple workers may duplicate your data. Please consider using the`keras.utils.Sequence class.\n",
      "  UserWarning('Using a generator with `use_multiprocessing=True`'\n"
     ]
    },
    {
     "name": "stdout",
     "output_type": "stream",
     "text": [
      "Epoch 601/700\n",
      "1000/1000 [==============================] - 845s 845ms/step - loss: 1.0375 - rpn_class_loss: 0.0345 - rpn_bbox_loss: 0.3149 - mrcnn_class_loss: 0.2452 - mrcnn_bbox_loss: 0.1849 - mrcnn_mask_loss: 0.2581 - val_loss: 1.6367 - val_rpn_class_loss: 0.0454 - val_rpn_bbox_loss: 0.7823 - val_mrcnn_class_loss: 0.3267 - val_mrcnn_bbox_loss: 0.2476 - val_mrcnn_mask_loss: 0.2347\n",
      "Epoch 602/700\n",
      "1000/1000 [==============================] - 706s 706ms/step - loss: 0.9003 - rpn_class_loss: 0.0270 - rpn_bbox_loss: 0.2364 - mrcnn_class_loss: 0.2432 - mrcnn_bbox_loss: 0.1557 - mrcnn_mask_loss: 0.2381 - val_loss: 1.8674 - val_rpn_class_loss: 0.0519 - val_rpn_bbox_loss: 0.9201 - val_mrcnn_class_loss: 0.3553 - val_mrcnn_bbox_loss: 0.2549 - val_mrcnn_mask_loss: 0.2851\n",
      "Epoch 603/700\n",
      "1000/1000 [==============================] - 698s 698ms/step - loss: 0.8485 - rpn_class_loss: 0.0285 - rpn_bbox_loss: 0.2400 - mrcnn_class_loss: 0.1956 - mrcnn_bbox_loss: 0.1507 - mrcnn_mask_loss: 0.2337 - val_loss: 1.5469 - val_rpn_class_loss: 0.0397 - val_rpn_bbox_loss: 0.8124 - val_mrcnn_class_loss: 0.2228 - val_mrcnn_bbox_loss: 0.2193 - val_mrcnn_mask_loss: 0.2527\n",
      "Epoch 604/700\n",
      "1000/1000 [==============================] - 703s 703ms/step - loss: 0.9296 - rpn_class_loss: 0.0359 - rpn_bbox_loss: 0.2695 - mrcnn_class_loss: 0.2238 - mrcnn_bbox_loss: 0.1595 - mrcnn_mask_loss: 0.2409 - val_loss: 1.6753 - val_rpn_class_loss: 0.1130 - val_rpn_bbox_loss: 0.7067 - val_mrcnn_class_loss: 0.3741 - val_mrcnn_bbox_loss: 0.2240 - val_mrcnn_mask_loss: 0.2576\n",
      "Epoch 605/700\n",
      "1000/1000 [==============================] - 705s 705ms/step - loss: 0.9550 - rpn_class_loss: 0.0383 - rpn_bbox_loss: 0.3115 - mrcnn_class_loss: 0.1968 - mrcnn_bbox_loss: 0.1584 - mrcnn_mask_loss: 0.2499 - val_loss: 2.2156 - val_rpn_class_loss: 0.0997 - val_rpn_bbox_loss: 1.3002 - val_mrcnn_class_loss: 0.3175 - val_mrcnn_bbox_loss: 0.1537 - val_mrcnn_mask_loss: 0.3445\n",
      "Epoch 606/700\n",
      "1000/1000 [==============================] - 709s 709ms/step - loss: 0.8236 - rpn_class_loss: 0.0279 - rpn_bbox_loss: 0.2463 - mrcnn_class_loss: 0.1885 - mrcnn_bbox_loss: 0.1348 - mrcnn_mask_loss: 0.2260 - val_loss: 2.1676 - val_rpn_class_loss: 0.0772 - val_rpn_bbox_loss: 1.0446 - val_mrcnn_class_loss: 0.3660 - val_mrcnn_bbox_loss: 0.3166 - val_mrcnn_mask_loss: 0.3631\n",
      "Epoch 607/700\n",
      "1000/1000 [==============================] - 716s 716ms/step - loss: 0.8972 - rpn_class_loss: 0.0322 - rpn_bbox_loss: 0.2744 - mrcnn_class_loss: 0.2034 - mrcnn_bbox_loss: 0.1529 - mrcnn_mask_loss: 0.2341 - val_loss: 1.7894 - val_rpn_class_loss: 0.0494 - val_rpn_bbox_loss: 0.7324 - val_mrcnn_class_loss: 0.3595 - val_mrcnn_bbox_loss: 0.2952 - val_mrcnn_mask_loss: 0.3529\n",
      "Epoch 608/700\n",
      "1000/1000 [==============================] - 717s 717ms/step - loss: 0.8552 - rpn_class_loss: 0.0283 - rpn_bbox_loss: 0.2514 - mrcnn_class_loss: 0.1983 - mrcnn_bbox_loss: 0.1468 - mrcnn_mask_loss: 0.2304 - val_loss: 2.1341 - val_rpn_class_loss: 0.1473 - val_rpn_bbox_loss: 0.9910 - val_mrcnn_class_loss: 0.3668 - val_mrcnn_bbox_loss: 0.3498 - val_mrcnn_mask_loss: 0.2791\n",
      "Epoch 609/700\n",
      "1000/1000 [==============================] - 700s 700ms/step - loss: 0.8080 - rpn_class_loss: 0.0242 - rpn_bbox_loss: 0.2282 - mrcnn_class_loss: 0.1884 - mrcnn_bbox_loss: 0.1276 - mrcnn_mask_loss: 0.2396 - val_loss: 1.5993 - val_rpn_class_loss: 0.0334 - val_rpn_bbox_loss: 0.7055 - val_mrcnn_class_loss: 0.3530 - val_mrcnn_bbox_loss: 0.2732 - val_mrcnn_mask_loss: 0.2342\n",
      "Epoch 610/700\n",
      "1000/1000 [==============================] - 717s 717ms/step - loss: 0.8550 - rpn_class_loss: 0.0283 - rpn_bbox_loss: 0.2558 - mrcnn_class_loss: 0.1916 - mrcnn_bbox_loss: 0.1510 - mrcnn_mask_loss: 0.2283 - val_loss: 1.7608 - val_rpn_class_loss: 0.0638 - val_rpn_bbox_loss: 0.9628 - val_mrcnn_class_loss: 0.2084 - val_mrcnn_bbox_loss: 0.2925 - val_mrcnn_mask_loss: 0.2334\n",
      "Epoch 611/700\n",
      "1000/1000 [==============================] - 725s 725ms/step - loss: 0.8251 - rpn_class_loss: 0.0272 - rpn_bbox_loss: 0.2228 - mrcnn_class_loss: 0.1938 - mrcnn_bbox_loss: 0.1435 - mrcnn_mask_loss: 0.2378 - val_loss: 1.6697 - val_rpn_class_loss: 0.0523 - val_rpn_bbox_loss: 0.8528 - val_mrcnn_class_loss: 0.2430 - val_mrcnn_bbox_loss: 0.2818 - val_mrcnn_mask_loss: 0.2396\n",
      "Epoch 612/700\n",
      "1000/1000 [==============================] - 736s 736ms/step - loss: 0.8813 - rpn_class_loss: 0.0311 - rpn_bbox_loss: 0.2645 - mrcnn_class_loss: 0.1964 - mrcnn_bbox_loss: 0.1455 - mrcnn_mask_loss: 0.2439 - val_loss: 1.9865 - val_rpn_class_loss: 0.0579 - val_rpn_bbox_loss: 1.0317 - val_mrcnn_class_loss: 0.2807 - val_mrcnn_bbox_loss: 0.3410 - val_mrcnn_mask_loss: 0.2752\n",
      "Epoch 613/700\n",
      "1000/1000 [==============================] - 707s 707ms/step - loss: 0.7473 - rpn_class_loss: 0.0270 - rpn_bbox_loss: 0.2273 - mrcnn_class_loss: 0.1601 - mrcnn_bbox_loss: 0.1202 - mrcnn_mask_loss: 0.2126 - val_loss: 1.7747 - val_rpn_class_loss: 0.1133 - val_rpn_bbox_loss: 0.9027 - val_mrcnn_class_loss: 0.3190 - val_mrcnn_bbox_loss: 0.2253 - val_mrcnn_mask_loss: 0.2144\n",
      "Epoch 614/700\n",
      " 502/1000 [==============>...............] - ETA: 5:48 - loss: 0.8020 - rpn_class_loss: 0.0280 - rpn_bbox_loss: 0.2573 - mrcnn_class_loss: 0.1715 - mrcnn_bbox_loss: 0.1275 - mrcnn_mask_loss: 0.2178"
     ]
    }
   ],
   "source": [
    "# Train the head branches\n",
    "# Passing layers=\"heads\" freezes all layers except the head\n",
    "# layers. Passing layers=\"all\" trains all layers. You can also pass a regular expression to select\n",
    "# which layers to train by name pattern.\n",
    "\n",
    "import imgaug\n",
    "\n",
    "# Image Augmentation ... pulled from coco example\n",
    "# Right/Left flip 50% of the time\n",
    "augmentation = imgaug.augmenters.Fliplr(0.5)\n",
    "\n",
    "train_stage = 2\n",
    "n_epochs = 700 #starts from last round's end number\n",
    "\n",
    "if train_stage == 1:\n",
    "    model.train(dataset_train, dataset_val, \n",
    "                learning_rate= config.LEARNING_RATE, \n",
    "                epochs=n_epochs, \n",
    "                layers='heads',\n",
    "                augmentation=augmentation)\n",
    "elif train_stage == 2:\n",
    "    model.train(dataset_train, dataset_val, \n",
    "                learning_rate= config.LEARNING_RATE/10, \n",
    "                epochs=n_epochs, \n",
    "                layers='4+',\n",
    "                augmentation=augmentation)\n",
    "elif train_stage == 3:\n",
    "    model.train(dataset_train, dataset_val, \n",
    "                learning_rate= config.LEARNING_RATE / 10, \n",
    "                epochs=n_epochs, \n",
    "                layers='all',\n",
    "                augmentation=augmentation)"
   ]
  },
  {
   "cell_type": "code",
   "execution_count": null,
   "metadata": {},
   "outputs": [],
   "source": [
    "# epochs [0,500] were stage 1 : 3 gpus, 4 images / gpu, learning rate 0.001\n",
    "# epochs [501,600] were stage 1 : 4 gpus, 4 images /gpu, learning rate 0.0001\n",
    "# epochs [601,700] were stage 2 : 3 gpus, 4 images / gpu, learning rate 0.0001\n"
   ]
  },
  {
   "cell_type": "markdown",
   "metadata": {},
   "source": [
    "# Detection"
   ]
  },
  {
   "cell_type": "code",
   "execution_count": null,
   "metadata": {
    "ExecuteTime": {
     "end_time": "2019-09-13T17:20:49.396557Z",
     "start_time": "2019-09-13T17:20:27.500822Z"
    },
    "scrolled": true
   },
   "outputs": [],
   "source": [
    "class InferenceConfig(Config):\n",
    "    NAME = 'KaggleInf'\n",
    "    GPU_COUNT = 1\n",
    "    IMAGES_PER_GPU = 1\n",
    "    NUM_CLASSES = 1 + len(class_descriptions)\n",
    "    IMAGE_MIN_DIM = 512\n",
    "    IMAGE_MAX_DIM = 512\n",
    "\n",
    "inference_config = InferenceConfig()\n",
    "\n",
    "# Recreate the model in inference mode\n",
    "model = modellib.MaskRCNN(mode=\"inference\", \n",
    "                          config=inference_config,\n",
    "                          model_dir=MODEL_DIR)\n",
    "\n",
    "# Get path to saved weights\n",
    "# Either set a specific path or find last trained weights\n",
    "# model_path = os.path.join(ROOT_DIR, \"logs/kaggle20190911T1433/mask_rcnn_kaggle_0200.h5\")\n",
    "model_path = model.find_last()\n",
    "\n",
    "# Load trained weights\n",
    "print(\"Loading weights from \", model_path)\n",
    "model.load_weights(model_path, by_name=True)"
   ]
  },
  {
   "cell_type": "markdown",
   "metadata": {},
   "source": [
    "## Sanity Check on validation set"
   ]
  },
  {
   "cell_type": "code",
   "execution_count": null,
   "metadata": {
    "ExecuteTime": {
     "end_time": "2019-09-13T17:23:13.151806Z",
     "start_time": "2019-09-13T17:23:10.805999Z"
    }
   },
   "outputs": [],
   "source": [
    "#test on a few random images\n",
    "image_ids = np.random.choice(dataset_val.image_ids, 5)\n",
    "\n",
    "images = []\n",
    "\n",
    "for iid in image_ids:\n",
    "    original_image, image_meta, gt_class_id, gt_bbox, gt_mask = modellib.load_image_gt(dataset_val, inference_config, iid, use_mini_mask=False)\n",
    "\n",
    "    visualize.display_instances(original_image, gt_bbox, gt_mask, gt_class_id, \n",
    "                            dataset_val.class_names, figsize=(8, 8))\n",
    "    \n",
    "    images.append(original_image)\n"
   ]
  },
  {
   "cell_type": "code",
   "execution_count": null,
   "metadata": {
    "ExecuteTime": {
     "end_time": "2019-09-13T17:23:23.290368Z",
     "start_time": "2019-09-13T17:23:19.605809Z"
    },
    "scrolled": true
   },
   "outputs": [],
   "source": [
    "results = [model.detect([img], verbose=0) for img in images]\n",
    "\n",
    "for i in range(len(results)):\n",
    "    r = results[i][0]\n",
    "    visualize.display_instances(images[i], r['rois'], r['masks'], r['class_ids'], dataset_val.class_names, r['scores'])"
   ]
  },
  {
   "cell_type": "markdown",
   "metadata": {
    "heading_collapsed": true
   },
   "source": [
    "## On Test set"
   ]
  },
  {
   "cell_type": "code",
   "execution_count": null,
   "metadata": {
    "hidden": true
   },
   "outputs": [],
   "source": [
    "from PIL import ImageFile\n",
    "import os\n",
    "ImageFile.LOAD_TRUNCATED_IMAGES = True\n",
    "\n",
    "#TODO image_info should be 2d array, with each row of form id, width, height\n",
    "def append_to_file(filename, results, image_info):\n",
    "    \n",
    "    all_preds = []\n",
    "    \n",
    "    for j, r in enumerate(results):\n",
    "        preds = []\n",
    "        ids = r['class_ids']\n",
    "        boxes = r['rois']\n",
    "        scores = r['scores']\n",
    "\n",
    "        img_id = image_info[j][0]\n",
    "        height = image_info[j][2]\n",
    "        width = image_info[j][1]\n",
    "        \n",
    "        preds = ''\n",
    "\n",
    "        for i in range(len(r['class_ids'])):\n",
    "            xmin = max(boxes[i][1] / width , 0.0)\n",
    "            ymin = max(boxes[i][0] / height, 0.0)\n",
    "            xmax = min(boxes[i][3] / width, 1.0)\n",
    "            ymax = min(boxes[i][2] / height, 1.0)\n",
    "            \n",
    "            preds += \" \" + \" \".join(map(str,[omni_class_set.iloc[ids[i]]['LabelName'], scores[i], xmin,ymin,xmax,ymax]))\n",
    "\n",
    "        all_preds.append(img_id + \",\" + preds)\n",
    "        \n",
    "    with open(filename, 'a') as f: \n",
    "        f.write('\\n'.join(all_preds))\n",
    "        f.write('\\n')\n",
    "    \n",
    "    \n",
    "\n",
    "testdir = os.path.join(DATA_DIR, \"test\")\n",
    "batch_size = 500\n",
    "\n",
    "\n",
    "def write_sub_file(filename, start_index=0):\n",
    "    results = []\n",
    "    image_info = []\n",
    "\n",
    "\n",
    "    for subdir, dirs, files in os.walk(testdir):\n",
    "        for cnt,file in enumerate(files):\n",
    "\n",
    "            #use this if the process broke down at some point and you need to restart midway through ... total hack\n",
    "            if cnt < start_index:\n",
    "                continue\n",
    "\n",
    "            img = skimage.io.imread(os.path.join(subdir, file))\n",
    "\n",
    "            #filename, width, height\n",
    "            image_info.append([file[:-4],img.shape[1],img.shape[0]])\n",
    "\n",
    "            results += model.detect([image], verbose=0)\n",
    "\n",
    "            if (cnt%batch_size == (batch_size-1)):\n",
    "                print(\"writing to file ... \")\n",
    "                append_to_file(filename, results,image_info)\n",
    "                results = []\n",
    "                image_info = []\n",
    "                print(cnt,\" completed\") #100,000 images in the test set\n",
    "                \n",
    "    print(\"writing final records to file ... \")\n",
    "    append_to_file(filename, results,image_info)\n",
    "    print(cnt,\" completed\")\n",
    "    \n",
    "    return cnt"
   ]
  },
  {
   "cell_type": "markdown",
   "metadata": {
    "hidden": true
   },
   "source": [
    "### Sanity Check"
   ]
  },
  {
   "cell_type": "code",
   "execution_count": null,
   "metadata": {
    "ExecuteTime": {
     "end_time": "2019-09-13T17:39:05.749916Z",
     "start_time": "2019-09-13T17:39:05.504176Z"
    },
    "hidden": true,
    "scrolled": false
   },
   "outputs": [],
   "source": [
    "dataset = dataset_val\n",
    "\n",
    "image_ids = np.random.choice(dataset.image_ids, 5)\n",
    "\n",
    "ver_images = []\n",
    "\n",
    "for iid in image_ids:\n",
    "    original_image, image_meta, gt_class_id, gt_bbox, gt_mask = modellib.load_image_gt(dataset, inference_config, iid, use_mini_mask=False)\n",
    "    \n",
    "    visualize.display_instances(original_image, gt_bbox, gt_mask, gt_class_id, \n",
    "                            dataset.class_names, figsize=(8, 8))\n",
    "    \n",
    "    ver_images.append(original_image)\n",
    "\n",
    "results = [model.detect([img], verbose=0) for img in ver_images]\n",
    "\n",
    "for i in range(len(results)):\n",
    "    r = results[i][0]\n",
    "    visualize.display_instances(ver_images[i], r['rois'], r['masks'], r['class_ids'], dataset.class_names, r['scores'])"
   ]
  },
  {
   "cell_type": "markdown",
   "metadata": {
    "heading_collapsed": true
   },
   "source": [
    "# Evaluation"
   ]
  },
  {
   "cell_type": "code",
   "execution_count": null,
   "metadata": {
    "ExecuteTime": {
     "end_time": "2019-08-12T21:42:25.655886Z",
     "start_time": "2019-08-12T21:39:05.219096Z"
    },
    "hidden": true
   },
   "outputs": [],
   "source": [
    "# Compute VOC-Style mAP @ IoU=0.5\n",
    "# Running on 10 images. Increase for better accuracy.\n",
    "image_ids = np.random.choice(dataset_val.image_ids, 500)\n",
    "\n",
    "#each input is a tuple of form : image, image_meta, gt_class_id, gt_bbox, gt_mask\n",
    "inputs = [modellib.load_image_gt(dataset_val, inference_config, iid, use_mini_mask=False) for iid in image_ids]\n",
    "\n",
    "APs = []\n",
    "\n",
    "n = inference_config.BATCH_SIZE\n",
    "\n",
    "for i in range(0,len(image_ids),n): \n",
    "\n",
    "    curr_inputs = inputs[i:i+n]\n",
    "    \n",
    "    results = model.detect([inp[0] for inp in curr_inputs], verbose=0)\n",
    "    \n",
    "    for j in range(len(results)):\n",
    "        r = results[j]\n",
    "        # Compute AP\n",
    "        AP, precisions, recalls, overlaps =\\\n",
    "            utils.compute_ap(curr_inputs[j][3], curr_inputs[j][2], curr_inputs[j][4],\n",
    "                             r[\"rois\"], r[\"class_ids\"], r[\"scores\"], r['masks'])\n",
    "        APs.append(AP)\n",
    "    \n",
    "print(\"mAP: \", np.mean(APs))"
   ]
  },
  {
   "cell_type": "markdown",
   "metadata": {
    "heading_collapsed": true
   },
   "source": [
    "# Generate submission file"
   ]
  },
  {
   "cell_type": "markdown",
   "metadata": {
    "hidden": true
   },
   "source": [
    "## Encode instance segmentation map (from kaggle competition website)"
   ]
  },
  {
   "cell_type": "code",
   "execution_count": null,
   "metadata": {
    "hidden": true
   },
   "outputs": [],
   "source": [
    "# container does not include this library by default, will need to run this once\n",
    "# !pip install pycocotools"
   ]
  },
  {
   "cell_type": "code",
   "execution_count": null,
   "metadata": {
    "hidden": true
   },
   "outputs": [],
   "source": [
    "import base64\n",
    "from pycocotools import _mask as coco_mask\n",
    "import typing as t\n",
    "import zlib\n",
    "\n",
    "\n",
    "def encode_binary_mask(mask: np.ndarray):\n",
    "\n",
    "     # check input mask --\n",
    "    if mask.dtype != np.bool:\n",
    "        raise ValueError(\n",
    "           \"encode_binary_mask expects a binary mask, received dtype == %s\" %\n",
    "           mask.dtype)\n",
    "\n",
    "    mask = np.squeeze(mask)\n",
    "    if len(mask.shape) != 2:\n",
    "        raise ValueError(\n",
    "           \"encode_binary_mask expects a 2d mask, received shape == %s\" %\n",
    "           mask.shape)\n",
    "\n",
    "     # convert input mask to expected COCO API input --\n",
    "    mask_to_encode = mask.reshape(mask.shape[0], mask.shape[1], 1)\n",
    "    mask_to_encode = mask_to_encode.astype(np.uint8)\n",
    "    mask_to_encode = np.asfortranarray(mask_to_encode)\n",
    "\n",
    "    # RLE encode mask --\n",
    "    encoded_mask = coco_mask.encode(mask_to_encode)[0][\"counts\"]\n",
    "\n",
    "    # compress and base64 encoding --\n",
    "    binary_str = zlib.compress(encoded_mask, zlib.Z_BEST_COMPRESSION)\n",
    "    base64_str = base64.b64encode(binary_str)\n",
    "    return base64_str"
   ]
  },
  {
   "cell_type": "markdown",
   "metadata": {
    "hidden": true
   },
   "source": [
    "## Define batch-write functions"
   ]
  },
  {
   "cell_type": "code",
   "execution_count": null,
   "metadata": {
    "hidden": true
   },
   "outputs": [],
   "source": [
    "from PIL import ImageFile\n",
    "import os\n",
    "ImageFile.LOAD_TRUNCATED_IMAGES = True\n",
    "\n",
    "#TODO image_info should be 2d array, with each row of form id, width, height\n",
    "def append_to_file(filename, results, image_info):\n",
    "    \n",
    "    all_preds = []\n",
    "    \n",
    "    for j, r in enumerate(results):\n",
    "        preds = []\n",
    "        ids = r['class_ids']\n",
    "        masks = r['masks']\n",
    "        scores = r['scores']\n",
    "\n",
    "        img_id = image_info[j][0]\n",
    "        height = image_info[j][2]\n",
    "        width = image_info[j][1]\n",
    "        \n",
    "        preds =''\n",
    "\n",
    "        for i in range(len(r['class_ids'])):\n",
    "            # masks are stored as a 3d array, <height,width,# examples>, so we need to index into it in a special way\n",
    "            enc_mask = encode_binary_mask(masks[:,:,i])\n",
    "            #subtract 1 to compensate for the background\n",
    "            class_name = class_descriptions.iloc[ids[i]-1]['LabelName']\n",
    "            preds += \" \" + \" \".join(map(str,[class_name, scores[i], enc_mask.decode()]))\n",
    "\n",
    "        img_lvl_fields = ','.join(map(str,[img_id,width,height]))\n",
    "        all_preds.append(img_lvl_fields + \",\" + preds)\n",
    "        \n",
    "    with open(filename, 'a') as f: \n",
    "        f.write('\\n'.join(all_preds))\n",
    "        f.write('\\n')\n",
    "        \n",
    "\n",
    "testdir = os.path.join(DATA_DIR, \"test\")\n",
    "\n",
    "def write_sub_file(filename, batch_size=500, start_index=0):\n",
    "    results = []\n",
    "    image_info = []\n",
    "\n",
    "\n",
    "    for subdir, dirs, files in os.walk(testdir):\n",
    "        for cnt,file in enumerate(files):\n",
    "\n",
    "            #use this if the process broke down at some point and you need to restart midway through ... total hack\n",
    "            if cnt < start_index:\n",
    "                continue\n",
    "\n",
    "            img = skimage.io.imread(os.path.join(subdir, file))\n",
    "\n",
    "            #filename, width, height\n",
    "            image_info.append([file[:-4],img.shape[1],img.shape[0]])\n",
    "\n",
    "            results += model.detect([img], verbose=0)\n",
    "\n",
    "            if (cnt%batch_size == (batch_size-1)):\n",
    "                print(\"writing to file ... \")\n",
    "                append_to_file(filename, results,image_info)\n",
    "                results = []\n",
    "                image_info = []\n",
    "                print(cnt,\" completed\") #100,000 images in the test set\n",
    "                \n",
    "    print(\"writing final records to file ... \")\n",
    "    append_to_file(filename, results,image_info)\n",
    "    print(cnt,\" completed\")\n",
    "    \n",
    "    return cnt"
   ]
  },
  {
   "cell_type": "markdown",
   "metadata": {
    "hidden": true
   },
   "source": [
    "## Execute batch writing"
   ]
  },
  {
   "cell_type": "code",
   "execution_count": null,
   "metadata": {
    "hidden": true
   },
   "outputs": [],
   "source": [
    "filename = os.path.join(ROOT_DIR, 'seg_submission_9_16.csv')"
   ]
  },
  {
   "cell_type": "markdown",
   "metadata": {
    "hidden": true
   },
   "source": [
    "### Generate the entire file"
   ]
  },
  {
   "cell_type": "code",
   "execution_count": null,
   "metadata": {
    "hidden": true
   },
   "outputs": [],
   "source": [
    "with open(filename, 'w+') as f:\n",
    "    f.write('ImageId,ImageWidth,ImageHeight,PredictionString\\n')\n",
    "    \n",
    "write_sub_file(filename, start_index=0)"
   ]
  },
  {
   "cell_type": "markdown",
   "metadata": {
    "hidden": true
   },
   "source": [
    "### Resume writing the file"
   ]
  },
  {
   "cell_type": "code",
   "execution_count": null,
   "metadata": {
    "hidden": true
   },
   "outputs": [],
   "source": [
    "# use X + 1 , where X is from the 'X completed' statement above\n",
    "write_sub_file(filename, start_index=6500)"
   ]
  },
  {
   "cell_type": "markdown",
   "metadata": {
    "hidden": true
   },
   "source": [
    "### Manipulate submission file"
   ]
  },
  {
   "cell_type": "code",
   "execution_count": null,
   "metadata": {
    "hidden": true
   },
   "outputs": [],
   "source": [
    "# df = pd.read_csv(submission_file)\n",
    "\n",
    "# nu = df['ImageId'].nunique()  # Should be 99999\n",
    "\n",
    "# if len(df) > nu\n",
    "#     df.drop_duplicates('ImageId', inplace = True)\n",
    "\n",
    "# df.to_csv('submission_9_11_0.csv',index=False)"
   ]
  },
  {
   "cell_type": "markdown",
   "metadata": {
    "heading_collapsed": true
   },
   "source": [
    "# Debugging cells"
   ]
  },
  {
   "cell_type": "code",
   "execution_count": null,
   "metadata": {
    "hidden": true
   },
   "outputs": [],
   "source": [
    "## Look up the details for an image and its associated mask to ensure that sizes are correctly mapped\n",
    "\n",
    "# mpath = dataset.image_reference(548819)\n",
    "# mpath = dataset.image_reference(263657)\n",
    "# skimage.io.imread(mpath).shape\n",
    "\n",
    "def get_details(img_id):\n",
    "    f_path = dataset.image_reference(img_id)\n",
    "    f_shape = skimage.io.imread(f_path).shape\n",
    "    f_ratio = f_shape[0]/f_shape[1]\n",
    "    q = f_path.split('/')[-2:]\n",
    "    rel_m_path = annotated_image_paths[annotated_image_paths['RelativePath'] == '/'.join(q)]['MaskPath'].iloc[0]\n",
    "    m_path = os.path.join(DATA_DIR,'segmentation',rel_m_path)\n",
    "    m_shape = skimage.io.imread(m_path).shape\n",
    "    m_ratio = m_shape[0]/m_shape[1]\n",
    "    \n",
    "    return [img_id, f_path,f_shape,f_ratio,m_path,m_shape,m_ratio]\n",
    "\n",
    "x = [get_details(iid) for iid in image_ids]\n",
    "\n",
    "pd.DataFrame(x,columns=['iid','f_path','f_shape','f_ratio','m_path','m_shape','m_ratio'])"
   ]
  }
 ],
 "metadata": {
  "kernelspec": {
   "display_name": "Python 3",
   "language": "python",
   "name": "python3"
  },
  "language_info": {
   "codemirror_mode": {
    "name": "ipython",
    "version": 3
   },
   "file_extension": ".py",
   "mimetype": "text/x-python",
   "name": "python",
   "nbconvert_exporter": "python",
   "pygments_lexer": "ipython3",
   "version": "3.6.8"
  },
  "toc": {
   "base_numbering": 1,
   "nav_menu": {},
   "number_sections": true,
   "sideBar": true,
   "skip_h1_title": false,
   "title_cell": "Table of Contents",
   "title_sidebar": "Contents",
   "toc_cell": false,
   "toc_position": {
    "height": "calc(100% - 180px)",
    "left": "10px",
    "top": "150px",
    "width": "295px"
   },
   "toc_section_display": true,
   "toc_window_display": true
  }
 },
 "nbformat": 4,
 "nbformat_minor": 2
}
