{
 "cells": [
  {
   "cell_type": "markdown",
   "metadata": {
    "heading_collapsed": true
   },
   "source": [
    "# Basic imports for Mask R-CNN"
   ]
  },
  {
   "cell_type": "code",
   "execution_count": null,
   "metadata": {
    "ExecuteTime": {
     "end_time": "2019-09-18T16:40:04.900485Z",
     "start_time": "2019-09-18T16:40:01.964771Z"
    },
    "hidden": true,
    "scrolled": true
   },
   "outputs": [],
   "source": [
    "import os\n",
    "import sys\n",
    "import random\n",
    "import math\n",
    "import re\n",
    "import time\n",
    "import numpy as np\n",
    "import cv2\n",
    "import matplotlib\n",
    "import matplotlib.pyplot as plt\n",
    "\n",
    "# Root directory of the project\n",
    "ROOT_DIR = os.path.abspath(\"../../\")\n",
    "\n",
    "# Import Mask RCNN\n",
    "sys.path.append(ROOT_DIR)  # To find local version of the library\n",
    "from mrcnn.config import Config\n",
    "from mrcnn import utils\n",
    "import mrcnn.model as modellib\n",
    "from mrcnn import visualize\n",
    "from mrcnn.model import log\n",
    "\n",
    "from skimage import transform\n",
    "import skimage.io\n",
    "\n",
    "\n",
    "%matplotlib inline \n",
    "\n",
    "# Directory to save logs and trained model\n",
    "MODEL_DIR = os.path.join(ROOT_DIR, \"logs\")\n",
    "\n",
    "DATA_DIR = os.path.join(ROOT_DIR, \"../data\")\n",
    "\n",
    "MASK_DIR  = os.path.join(DATA_DIR,'segmentation')\n",
    "\n",
    "# Local path to trained weights file\n",
    "COCO_MODEL_PATH = os.path.join(DATA_DIR, \"mask_rcnn_coco.h5\")\n",
    "\n",
    "#Make GPUs visible\n",
    "# !export HIP_VISIBLE_DEVICES=1,2,3\n",
    "\n",
    "#Set which GPU devices' memory should be accessible to running GPUs\n",
    "os.environ[\"CUDA_VISIBLE_DEVICES\"]=\"0\"\n",
    "\n",
    "#Make only 1 GPU visible\n",
    "!export HIP_VISIBLE_DEVICES=0\n",
    "\n",
    "#Set which GPU devices' memory should be accessible to running GPUs\n",
    "# os.environ[\"CUDA_VISIBLE_DEVICES\"]=\"2,3\"\n",
    "\n",
    "# Download COCO trained weights from Releases if needed\n",
    "# if not os.path.exists(COCO_MODEL_PATH):\n",
    "#     utils.download_trained_weights(COCO_MODEL_PATH)\n",
    "\n",
    "def get_ax(rows=1, cols=1, size=8):\n",
    "    \"\"\"Return a Matplotlib Axes array to be used in\n",
    "    all visualizations in the notebook. Provide a\n",
    "    central point to control graph sizes.\n",
    "    \n",
    "    Change the default size attribute to control the size\n",
    "    of rendered images\n",
    "    \"\"\"\n",
    "    _, ax = plt.subplots(rows, cols, figsize=(size*cols, size*rows))\n",
    "    return ax"
   ]
  },
  {
   "cell_type": "markdown",
   "metadata": {
    "heading_collapsed": true
   },
   "source": [
    "# Pull in annotations from database (from Simplot)"
   ]
  },
  {
   "cell_type": "code",
   "execution_count": null,
   "metadata": {
    "ExecuteTime": {
     "end_time": "2019-09-18T16:40:56.255123Z",
     "start_time": "2019-09-18T16:40:07.537972Z"
    },
    "hidden": true
   },
   "outputs": [],
   "source": [
    "import pyodbc\n",
    "import os\n",
    "import pandas as pd\n",
    "\n",
    "DATA_DIR = os.path.join(ROOT_DIR, \"../data\")\n",
    "\n",
    "COCO_MODEL_PATH = os.path.join(DATA_DIR, \"mask_rcnn_coco.h5\")\n",
    "\n",
    "ANNOTATION_COLS = ['XMax','XMin','YMin','YMax','LabelDescription']\n",
    "\n",
    "passwd = os.environ['dgs_sandbox_pwd']\n",
    "\n",
    "conn = pyodbc.connect('DSN=BIdevDatabase;'\n",
    "                      'Database=Sandbox;'\n",
    "                      'UID=DGSuser;'\n",
    "                      'PWD=' + passwd)\n",
    "\n",
    "\n",
    "class_descriptions = pd.read_csv(os.path.join(DATA_DIR, \"seg_class_descriptions.csv\"))\n",
    "\n",
    "#add 1 since Background class is automatically added at index 0\n",
    "class_descriptions['LabelID'] = class_descriptions.index + 1\n",
    "\n",
    "#This now holds the annotation information.\n",
    "# bboxes = pd.read_sql(\"SELECT ImageID, XMax, XMin, YMin, YMax, LabelName FROM [Sandbox].[kaggle].[Combined_Set_Detection_BBox]\", conn)\n",
    "\n",
    "seg_anns = pd.read_sql(\"SELECT MaskPath, ImageID, LabelName, BoxID, BoxXMin, BoxXMax, BoxYMin, BoxYMax, PredictedIoU, Clicks, SourceDataset from [kaggle].[Combined_Annotations_Object_Segmentation]\", conn)\n",
    "\n",
    "annotations = pd.merge(seg_anns,class_descriptions, on='LabelName',how='inner')\n",
    "\n",
    "# This now holds the list of images\n",
    "image_paths = pd.read_sql(\"SELECT ImageID, RelativePath, Height, Width, Mode from [kaggle].[Image_Path]\", conn)\n",
    "\n",
    "# Inner join on the two dataframes, so we now have images combined with associated annotations\n",
    "annotated_image_paths = pd.merge(image_paths,annotations, on='ImageID',how='inner')\n",
    "\n",
    "display(annotated_image_paths.head())"
   ]
  },
  {
   "cell_type": "markdown",
   "metadata": {
    "heading_collapsed": true
   },
   "source": [
    "# Subclass utils.Dataset for entire experiment"
   ]
  },
  {
   "cell_type": "code",
   "execution_count": null,
   "metadata": {
    "ExecuteTime": {
     "end_time": "2019-09-18T16:40:56.267612Z",
     "start_time": "2019-09-18T16:40:56.258492Z"
    },
    "hidden": true
   },
   "outputs": [],
   "source": [
    "class SegKaggleImageDataset(utils.Dataset):\n",
    "         \n",
    "    def load_kaggle_images(self, dataset_dir, grouped_by_images):\n",
    "        \"\"\"Load a subset of the image dataset.\n",
    "        dataset_dir: The root directory of the image dataset.\n",
    "        classes: Dataframe : If provided, only loads images that have the given classes.\n",
    "        \"\"\"\n",
    "\n",
    "        # Add classes, BG is automatically added at index 0\n",
    "        for _,row in class_descriptions.iterrows():\n",
    "            self.add_class(\"openImages\", row['LabelID'], row['LabelDescription'])\n",
    "        \n",
    "        # Add images\n",
    "        for i,df in grouped_by_images:    \n",
    "            row = df.iloc[0]\n",
    "            \n",
    "            self.add_image(\n",
    "                \"openImages\", image_id=i,\n",
    "                path=os.path.join(dataset_dir, row['RelativePath']),\n",
    "                width=row[\"Width\"],\n",
    "                height=row[\"Height\"],\n",
    "                annotations=df)\n",
    "    \n",
    "\n",
    "    def load_mask(self, image_id):\n",
    "        \"\"\"Generate instance masks for an image.  Based on the nucleus sample\n",
    "        \n",
    "       Returns:\n",
    "        masks: A bool array of shape [height, width, instance count] with\n",
    "            one mask per instance.\n",
    "        class_ids: a 1D array of class IDs of the instance masks.\n",
    "        \"\"\"\n",
    "        \n",
    "        # Create rectangular bounding box since we are doing object detection, not segmentation\n",
    "        # desired dimension is [height, width, instance_count]\n",
    "        img = self.image_info[image_id]\n",
    "        \n",
    "        masks = []\n",
    "        \n",
    "        for i,(_,p) in enumerate(img[\"annotations\"].iterrows()):   \n",
    "            mpath = os.path.join(MASK_DIR, p['MaskPath'])\n",
    "            raw_mask = skimage.io.imread(mpath)\n",
    "            masks.append(transform.resize(raw_mask,(img['height'],img['width'])))\n",
    "        \n",
    "#         for i,(_,p) in enumerate(img[\"annotations\"].iterrows()):   \n",
    "#             mpath = os.path.join(MASK_DIR, p['MaskPath'])\n",
    "#             masks.append(skimage.io.imread(mpath))\n",
    "\n",
    "        mask = np.stack(masks, axis=-1)\n",
    "        \n",
    "        return mask,np.array(img['annotations']['LabelID'].values, dtype=np.int32)\n",
    "\n",
    "    def image_reference(self, image_id):\n",
    "        return self.image_info[image_id]['path']\n",
    "    "
   ]
  },
  {
   "cell_type": "markdown",
   "metadata": {
    "heading_collapsed": true
   },
   "source": [
    "# Load dataset and display samples"
   ]
  },
  {
   "cell_type": "markdown",
   "metadata": {
    "hidden": true
   },
   "source": [
    "## Instantiate the Full Kaggle Image Dataset classes"
   ]
  },
  {
   "cell_type": "code",
   "execution_count": null,
   "metadata": {
    "ExecuteTime": {
     "end_time": "2019-09-18T16:42:31.622073Z",
     "start_time": "2019-09-18T16:42:24.900034Z"
    },
    "hidden": true
   },
   "outputs": [],
   "source": [
    "def load_dataset(source_str):\n",
    "    seg_paths = annotated_image_paths[annotated_image_paths['SourceDataset'] == source_str]\n",
    "\n",
    "    seg_grouped = seg_paths.groupby('ImageID')\n",
    "    \n",
    "    dataset_seg = SegKaggleImageDataset()\n",
    "    dataset_seg.load_kaggle_images(DATA_DIR, seg_grouped)\n",
    "    dataset_seg.prepare()\n",
    "    \n",
    "    return dataset_seg\n",
    "\n",
    "dataset_val = load_dataset('validation')"
   ]
  },
  {
   "cell_type": "markdown",
   "metadata": {
    "hidden": true
   },
   "source": [
    "### Sanity check that masks look alright"
   ]
  },
  {
   "cell_type": "code",
   "execution_count": null,
   "metadata": {
    "ExecuteTime": {
     "end_time": "2019-09-16T14:29:29.151825Z",
     "start_time": "2019-09-16T14:29:26.408429Z"
    },
    "hidden": true
   },
   "outputs": [],
   "source": [
    "# Load and display random samples ... sanity check for data load\n",
    "def display_mask_samples(dataset):\n",
    "    image_ids = np.random.choice(dataset.image_ids, 5)\n",
    "\n",
    "    for image_id in image_ids:\n",
    "        image = dataset.load_image(image_id)\n",
    "        mask, class_ids = dataset.load_mask(image_id)\n",
    "        print('image_id: ', image_id)\n",
    "        visualize.display_top_masks(image, mask, class_ids, dataset.class_names)\n",
    "        \n",
    "display_mask_samples(dataset_val)"
   ]
  },
  {
   "cell_type": "markdown",
   "metadata": {},
   "source": [
    "# Inference"
   ]
  },
  {
   "cell_type": "code",
   "execution_count": null,
   "metadata": {
    "ExecuteTime": {
     "end_time": "2019-09-18T21:32:20.930711Z",
     "start_time": "2019-09-18T21:32:07.764234Z"
    },
    "scrolled": true
   },
   "outputs": [],
   "source": [
    "class InferenceConfig(Config):\n",
    "    NAME = 'KaggleInf'\n",
    "    GPU_COUNT = 1\n",
    "    IMAGES_PER_GPU = 1\n",
    "    NUM_CLASSES = 1 + len(class_descriptions) #add one for background\n",
    "    IMAGE_MIN_DIM = 512\n",
    "    IMAGE_MAX_DIM = 512\n",
    "\n",
    "inference_config = InferenceConfig()\n",
    "\n",
    "# Recreate the model in inference mode\n",
    "model = modellib.MaskRCNN(mode=\"inference\", \n",
    "                          config=inference_config,\n",
    "                          model_dir=MODEL_DIR)\n",
    "\n",
    "# Get path to saved weights\n",
    "# Either set a specific path or find last trained weights\n",
    "model_path = os.path.join(ROOT_DIR, \"logs/kaggle20190913T1140/mask_rcnn_kaggle_0587.h5\")\n",
    "# model_path = os.path.join(ROOT_DIR, \"logs/kaggle20190913T1140/mask_rcnn_kaggle_0397.h5\")\n",
    "# model_path = model.find_last()\n",
    "\n",
    "# Load trained weights\n",
    "print(\"Loading weights from \", model_path)\n",
    "model.load_weights(model_path, by_name=True)"
   ]
  },
  {
   "cell_type": "markdown",
   "metadata": {
    "heading_collapsed": true
   },
   "source": [
    "## Sanity Checks"
   ]
  },
  {
   "cell_type": "markdown",
   "metadata": {
    "hidden": true
   },
   "source": [
    "### Validation set"
   ]
  },
  {
   "cell_type": "markdown",
   "metadata": {
    "heading_collapsed": true,
    "hidden": true
   },
   "source": [
    "#### Only truth data"
   ]
  },
  {
   "cell_type": "code",
   "execution_count": null,
   "metadata": {
    "ExecuteTime": {
     "end_time": "2019-09-16T14:30:33.300550Z",
     "start_time": "2019-09-16T14:30:30.577779Z"
    },
    "hidden": true
   },
   "outputs": [],
   "source": [
    "#test on a few random images\n",
    "image_ids = np.random.choice(dataset_val.image_ids, 5)\n",
    "\n",
    "images = []\n",
    "\n",
    "for iid in image_ids:\n",
    "    original_image, image_meta, gt_class_id, gt_bbox, gt_mask = modellib.load_image_gt(dataset_val, inference_config, iid, use_mini_mask=False)\n",
    "\n",
    "    visualize.display_instances(original_image, gt_bbox, gt_mask, gt_class_id, \n",
    "                            dataset_val.class_names, figsize=(8, 8))\n",
    "    \n",
    "    images.append(original_image)\n"
   ]
  },
  {
   "cell_type": "markdown",
   "metadata": {
    "heading_collapsed": true,
    "hidden": true
   },
   "source": [
    "#### Only predictions"
   ]
  },
  {
   "cell_type": "code",
   "execution_count": null,
   "metadata": {
    "ExecuteTime": {
     "end_time": "2019-09-16T14:31:11.290231Z",
     "start_time": "2019-09-16T14:31:00.881633Z"
    },
    "hidden": true,
    "scrolled": true
   },
   "outputs": [],
   "source": [
    "results = [model.detect([img], verbose=0) for img in images]\n",
    "\n",
    "for i in range(len(results)):\n",
    "    r = results[i][0]\n",
    "    visualize.display_instances(images[i], r['rois'], r['masks'], r['class_ids'], dataset_val.class_names, r['scores'])"
   ]
  },
  {
   "cell_type": "markdown",
   "metadata": {
    "hidden": true
   },
   "source": [
    "#### Predictions and ground truth"
   ]
  },
  {
   "cell_type": "code",
   "execution_count": null,
   "metadata": {
    "ExecuteTime": {
     "end_time": "2019-09-18T20:18:16.079692Z",
     "start_time": "2019-09-18T20:17:50.724575Z"
    },
    "hidden": true,
    "scrolled": true
   },
   "outputs": [],
   "source": [
    "#test on a few random images\n",
    "image_ids = np.random.choice(dataset_val.image_ids, 20)\n",
    "\n",
    "results = []\n",
    "\n",
    "for iid in image_ids:\n",
    "    original_image, image_meta, gt_class_id, gt_bbox, gt_mask = modellib.load_image_gt(dataset_val, inference_config, iid, use_mini_mask=False)\n",
    "\n",
    "    r = model.detect([original_image], verbose=0)[0]\n",
    "    \n",
    "    results.append(r)\n",
    "    \n",
    "    print('IID: ', iid)\n",
    "    \n",
    "    print('GROUND TRUTH')\n",
    "    visualize.display_instances(original_image, gt_bbox, gt_mask, gt_class_id, \n",
    "                            dataset_val.class_names, figsize=(8, 8))\n",
    "    \n",
    "    print('PREDICTION')\n",
    "    visualize.display_instances(original_image, r['rois'], r['masks'], r['class_ids'],\n",
    "                                dataset_val.class_names, r['scores'], figsize=(8, 8))\n",
    "    \n",
    "    AP, precisions, recalls, overlaps = utils.compute_ap(gt_bbox, gt_class_id, gt_mask, r[\"rois\"], r[\"class_ids\"], r[\"scores\"], r['masks'])\n",
    "    print('AP: ', AP)"
   ]
  },
  {
   "cell_type": "markdown",
   "metadata": {
    "heading_collapsed": true,
    "hidden": true
   },
   "source": [
    "### Test set"
   ]
  },
  {
   "cell_type": "code",
   "execution_count": null,
   "metadata": {
    "ExecuteTime": {
     "end_time": "2019-09-13T17:39:05.749916Z",
     "start_time": "2019-09-13T17:39:05.504176Z"
    },
    "hidden": true,
    "scrolled": false
   },
   "outputs": [],
   "source": [
    "dataset = dataset_val\n",
    "\n",
    "image_ids = np.random.choice(dataset.image_ids, 5)\n",
    "\n",
    "ver_images = []\n",
    "\n",
    "for iid in image_ids:\n",
    "    original_image, image_meta, gt_class_id, gt_bbox, gt_mask = modellib.load_image_gt(dataset, inference_config, iid, use_mini_mask=False)\n",
    "    \n",
    "    visualize.display_instances(original_image, gt_bbox, gt_mask, gt_class_id, \n",
    "                            dataset.class_names, figsize=(8, 8))\n",
    "    \n",
    "    ver_images.append(original_image)\n",
    "\n",
    "results = [model.detect([img], verbose=0) for img in ver_images]\n",
    "\n",
    "for i in range(len(results)):\n",
    "    r = results[i][0]\n",
    "    visualize.display_instances(ver_images[i], r['rois'], r['masks'], r['class_ids'], dataset.class_names, r['scores'])"
   ]
  },
  {
   "cell_type": "markdown",
   "metadata": {
    "heading_collapsed": true
   },
   "source": [
    "# Evaluation"
   ]
  },
  {
   "cell_type": "code",
   "execution_count": null,
   "metadata": {
    "ExecuteTime": {
     "end_time": "2019-09-18T20:26:18.864917Z",
     "start_time": "2019-09-18T20:18:16.083871Z"
    },
    "hidden": true
   },
   "outputs": [],
   "source": [
    "# Compute VOC-Style mAP @ IoU=0.5\n",
    "# Running on 10 images. Increase for better accuracy.\n",
    "image_ids = np.random.choice(dataset_val.image_ids, 1000)\n",
    "\n",
    "#each input is a tuple of form : image, image_meta, gt_class_id, gt_bbox, gt_mask\n",
    "inputs = [modellib.load_image_gt(dataset_val, inference_config, iid, use_mini_mask=False) for iid in image_ids]\n",
    "\n",
    "APs = []\n",
    "\n",
    "n = inference_config.BATCH_SIZE\n",
    "\n",
    "for i in range(0,len(image_ids),n): \n",
    "\n",
    "    curr_inputs = inputs[i:i+n]\n",
    "    \n",
    "    results = model.detect([inp[0] for inp in curr_inputs], verbose=0)\n",
    "    \n",
    "    for j in range(len(results)):\n",
    "        r = results[j]\n",
    "        # Compute AP\n",
    "        AP, precisions, recalls, overlaps =\\\n",
    "            utils.compute_ap(curr_inputs[j][3], curr_inputs[j][2], curr_inputs[j][4],\n",
    "                             r[\"rois\"], r[\"class_ids\"], r[\"scores\"], r['masks'])\n",
    "        APs.append(AP)\n",
    "    \n",
    "print(\"mAP: \", np.mean(APs))"
   ]
  },
  {
   "cell_type": "markdown",
   "metadata": {},
   "source": [
    "# Generate submission file"
   ]
  },
  {
   "cell_type": "markdown",
   "metadata": {},
   "source": [
    "## Define functions"
   ]
  },
  {
   "cell_type": "markdown",
   "metadata": {},
   "source": [
    "### Encode an instance segmentation map (from competition website)"
   ]
  },
  {
   "cell_type": "code",
   "execution_count": null,
   "metadata": {
    "ExecuteTime": {
     "end_time": "2019-09-16T15:29:14.474632Z",
     "start_time": "2019-09-16T15:29:03.092670Z"
    }
   },
   "outputs": [],
   "source": [
    "# container does not include this library by default, will need to run this once\n",
    "# !pip install pycocotools"
   ]
  },
  {
   "cell_type": "code",
   "execution_count": null,
   "metadata": {
    "ExecuteTime": {
     "end_time": "2019-09-18T21:32:20.943978Z",
     "start_time": "2019-09-18T21:32:20.933612Z"
    }
   },
   "outputs": [],
   "source": [
    "import base64\n",
    "from pycocotools import _mask as coco_mask\n",
    "import typing as t\n",
    "import zlib\n",
    "\n",
    "\n",
    "def encode_binary_mask(mask: np.ndarray):\n",
    "\n",
    "     # check input mask --\n",
    "    if mask.dtype != np.bool:\n",
    "        raise ValueError(\n",
    "           \"encode_binary_mask expects a binary mask, received dtype == %s\" %\n",
    "           mask.dtype)\n",
    "\n",
    "    mask = np.squeeze(mask)\n",
    "    if len(mask.shape) != 2:\n",
    "        raise ValueError(\n",
    "           \"encode_binary_mask expects a 2d mask, received shape == %s\" %\n",
    "           mask.shape)\n",
    "\n",
    "    # convert input mask to expected COCO API input --\n",
    "    mask_to_encode = mask.reshape(mask.shape[0], mask.shape[1], 1)\n",
    "    mask_to_encode = mask_to_encode.astype(np.uint8)\n",
    "    mask_to_encode = np.asfortranarray(mask_to_encode)\n",
    "\n",
    "    # RLE encode mask --\n",
    "    encoded_mask = coco_mask.encode(mask_to_encode)[0][\"counts\"]\n",
    "\n",
    "    # compress and base64 encoding --\n",
    "    binary_str = zlib.compress(encoded_mask, zlib.Z_BEST_COMPRESSION)\n",
    "    base64_str = base64.b64encode(binary_str)\n",
    "    return base64_str"
   ]
  },
  {
   "cell_type": "markdown",
   "metadata": {},
   "source": [
    "### Define batch write functions"
   ]
  },
  {
   "cell_type": "code",
   "execution_count": null,
   "metadata": {
    "ExecuteTime": {
     "end_time": "2019-09-18T21:32:25.797837Z",
     "start_time": "2019-09-18T21:32:25.778361Z"
    }
   },
   "outputs": [],
   "source": [
    "from PIL import ImageFile\n",
    "import os\n",
    "ImageFile.LOAD_TRUNCATED_IMAGES = True\n",
    "\n",
    "#TODO image_info should be 2d array, with each row of form id, width, height\n",
    "def append_to_file(filename, results, image_info):\n",
    "    \n",
    "    all_preds = []\n",
    "    \n",
    "    for j, r in enumerate(results):\n",
    "        preds = []\n",
    "        ids = r['class_ids']\n",
    "        masks = r['masks']\n",
    "        scores = r['scores']\n",
    "\n",
    "        img_id = image_info[j][0]\n",
    "        height = image_info[j][2]\n",
    "        width = image_info[j][1]\n",
    "        \n",
    "        preds =''\n",
    "\n",
    "        for i in range(len(r['class_ids'])):\n",
    "            # masks are stored as a 3d array, <height,width,# examples>, so we need to index into it in a special way\n",
    "            enc_mask = encode_binary_mask(masks[:,:,i])\n",
    "            #subtract 1 to compensate for the background\n",
    "            class_name = class_descriptions.iloc[ids[i]-1]['LabelName']\n",
    "            preds += \" \" + \" \".join(map(str,[class_name, scores[i], enc_mask.decode()]))\n",
    "\n",
    "        img_lvl_fields = ','.join(map(str,[img_id,width,height]))\n",
    "        all_preds.append(img_lvl_fields + \",\" + preds)\n",
    "        \n",
    "    with open(filename, 'a') as f: \n",
    "        f.write('\\n'.join(all_preds))\n",
    "        f.write('\\n')\n",
    "        \n",
    "\n",
    "testdir = os.path.join(DATA_DIR, \"test\")\n",
    "\n",
    "def write_sub_file(filename, batch_size=500, start_index=0):\n",
    "    results = []\n",
    "    image_info = []\n",
    "\n",
    "\n",
    "    for subdir, dirs, files in os.walk(testdir):\n",
    "        for cnt,file in enumerate(files):\n",
    "\n",
    "            #use this if the process broke down at some point and you need to restart midway through ... total hack\n",
    "            if cnt < start_index:\n",
    "                continue\n",
    "\n",
    "            img = skimage.io.imread(os.path.join(subdir, file))\n",
    "\n",
    "            #filename, width, height\n",
    "            image_info.append([file[:-4],img.shape[1],img.shape[0]])\n",
    "\n",
    "            results += model.detect([img], verbose=0)\n",
    "\n",
    "            if (cnt%batch_size == (batch_size-1)):\n",
    "                print(\"writing to file ... \")\n",
    "                append_to_file(filename, results,image_info)\n",
    "                results = []\n",
    "                image_info = []\n",
    "                print(cnt,\" completed\") #100,000 images in the test set\n",
    "                \n",
    "    print(\"writing final records to file ... \")\n",
    "    append_to_file(filename, results,image_info)\n",
    "    print(cnt,\" completed\")\n",
    "    \n",
    "    return cnt"
   ]
  },
  {
   "cell_type": "markdown",
   "metadata": {},
   "source": [
    "## Run batch write"
   ]
  },
  {
   "cell_type": "code",
   "execution_count": null,
   "metadata": {
    "ExecuteTime": {
     "end_time": "2019-09-18T21:32:35.221711Z",
     "start_time": "2019-09-18T21:32:35.217803Z"
    }
   },
   "outputs": [],
   "source": [
    "submission_file = os.path.join(ROOT_DIR, 'seg_submission_9_18_t0.csv')"
   ]
  },
  {
   "cell_type": "markdown",
   "metadata": {},
   "source": [
    "### Generate the entire file"
   ]
  },
  {
   "cell_type": "code",
   "execution_count": null,
   "metadata": {
    "ExecuteTime": {
     "start_time": "2019-09-18T21:32:39.432Z"
    }
   },
   "outputs": [],
   "source": [
    "with open(submission_file, 'w+') as f:\n",
    "    f.write('ImageId,ImageWidth,ImageHeight,PredictionString\\n')\n",
    "    \n",
    "write_sub_file(submission_file, start_index=0)"
   ]
  },
  {
   "cell_type": "markdown",
   "metadata": {
    "heading_collapsed": true
   },
   "source": [
    "### Resume from index"
   ]
  },
  {
   "cell_type": "code",
   "execution_count": null,
   "metadata": {
    "hidden": true
   },
   "outputs": [],
   "source": [
    "# use X + 1 , where X is from the 'X completed' statement above\n",
    "write_sub_file(submission_file, start_index=1500)"
   ]
  },
  {
   "cell_type": "markdown",
   "metadata": {},
   "source": [
    "### Manipulate submission file"
   ]
  },
  {
   "cell_type": "code",
   "execution_count": null,
   "metadata": {
    "ExecuteTime": {
     "end_time": "2019-09-16T19:14:23.332590Z",
     "start_time": "2019-09-16T19:14:19.090991Z"
    }
   },
   "outputs": [],
   "source": [
    "# df = pd.read_csv(submission_file)\n",
    "\n",
    "# nu = df['ImageId'].nunique()  # Should be 99999\n",
    "\n",
    "# if len(df) > nu\n",
    "#     df.drop_duplicates('ImageId', inplace = True)\n",
    "\n",
    "# df.to_csv('submission_9_11_0.csv',index=False)"
   ]
  },
  {
   "cell_type": "markdown",
   "metadata": {},
   "source": [
    "# Debugging cells"
   ]
  },
  {
   "cell_type": "code",
   "execution_count": null,
   "metadata": {
    "ExecuteTime": {
     "end_time": "2019-09-18T17:44:34.800100Z",
     "start_time": "2019-09-18T17:44:34.792924Z"
    }
   },
   "outputs": [],
   "source": [
    "## Look up the details for an image and its associated mask to ensure that sizes are correctly mapped\n",
    "\n",
    "# mpath = dataset.image_reference(548819)\n",
    "# mpath = dataset.image_reference(263657)\n",
    "# skimage.io.imread(mpath).shape\n",
    "\n",
    "def get_details(dataset, img_id):\n",
    "    f_path = dataset.image_reference(img_id)\n",
    "    f_shape = skimage.io.imread(f_path).shape\n",
    "    f_ratio = f_shape[0]/f_shape[1]\n",
    "    q = f_path.split('/')[-2:]\n",
    "    rel_m_path = annotated_image_paths[annotated_image_paths['RelativePath'] == '/'.join(q)]['MaskPath'].iloc[0]\n",
    "    m_path = os.path.join(DATA_DIR,'segmentation',rel_m_path)\n",
    "    m_shape = skimage.io.imread(m_path).shape\n",
    "    m_ratio = m_shape[0]/m_shape[1]\n",
    "    \n",
    "    return [img_id, f_path,f_shape,f_ratio,m_path,m_shape,m_ratio]\n",
    "\n",
    "# x = [get_details(dataset_val, iid) for iid in image_ids]\n",
    "\n",
    "# pd.DataFrame(x,columns=['iid','f_path','f_shape','f_ratio','m_path','m_shape','m_ratio'])"
   ]
  }
 ],
 "metadata": {
  "kernelspec": {
   "display_name": "Python 3",
   "language": "python",
   "name": "python3"
  },
  "language_info": {
   "codemirror_mode": {
    "name": "ipython",
    "version": 3
   },
   "file_extension": ".py",
   "mimetype": "text/x-python",
   "name": "python",
   "nbconvert_exporter": "python",
   "pygments_lexer": "ipython3",
   "version": "3.6.8"
  },
  "toc": {
   "base_numbering": 1,
   "nav_menu": {},
   "number_sections": true,
   "sideBar": true,
   "skip_h1_title": false,
   "title_cell": "Table of Contents",
   "title_sidebar": "Contents",
   "toc_cell": false,
   "toc_position": {
    "height": "calc(100% - 180px)",
    "left": "10px",
    "top": "150px",
    "width": "295px"
   },
   "toc_section_display": true,
   "toc_window_display": true
  }
 },
 "nbformat": 4,
 "nbformat_minor": 2
}
