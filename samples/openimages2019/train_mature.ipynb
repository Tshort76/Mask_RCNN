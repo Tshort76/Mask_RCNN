{
 "cells": [
  {
   "cell_type": "markdown",
   "metadata": {},
   "source": [
    "# Mask R-CNN - Train on OpenImages Dataset"
   ]
  },
  {
   "cell_type": "code",
   "execution_count": 1,
   "metadata": {
    "ExecuteTime": {
     "end_time": "2019-08-14T18:51:12.498009Z",
     "start_time": "2019-08-14T18:51:09.208754Z"
    },
    "scrolled": true
   },
   "outputs": [
    {
     "name": "stderr",
     "output_type": "stream",
     "text": [
      "Using TensorFlow backend.\n"
     ]
    }
   ],
   "source": [
    "import os\n",
    "import sys\n",
    "import random\n",
    "import math\n",
    "import re\n",
    "import time\n",
    "import numpy as np\n",
    "import cv2\n",
    "import matplotlib\n",
    "import matplotlib.pyplot as plt\n",
    "\n",
    "# Root directory of the project\n",
    "ROOT_DIR = os.path.abspath(\"../../\")\n",
    "\n",
    "# Import Mask RCNN\n",
    "sys.path.append(ROOT_DIR)  # To find local version of the library\n",
    "from mrcnn.config import Config\n",
    "from mrcnn import utils\n",
    "import mrcnn.model as modellib\n",
    "from mrcnn import visualize\n",
    "from mrcnn.model import log\n",
    "\n",
    "from openimages2019 import setup as st\n",
    "from openimages2019 import utils as u\n",
    "\n",
    "from skimage.draw import rectangle\n",
    "\n",
    "%matplotlib inline \n",
    "\n",
    "# Directory to save logs and trained model\n",
    "MODEL_DIR = os.path.join(ROOT_DIR, \"logs\")\n",
    "\n",
    "DATA_DIR = os.path.join(ROOT_DIR, \"../data\")\n",
    "\n",
    "# Local path to trained weights file\n",
    "COCO_MODEL_PATH = os.path.join(DATA_DIR, \"mask_rcnn_coco.h5\")\n",
    "\n",
    "#Make GPUs visible\n",
    "!export HIP_VISIBLE_DEVICES=2,3\n",
    "\n",
    "\n",
    "\n",
    "import mlflow\n",
    "#add mlflow stuff\n",
    "\n",
    "MLFLOW_SERVER = 'occ01ap200.na.simplot.com'\n",
    "\n",
    "os.environ['NO_PROXY'] = MLFLOW_SERVER\n",
    "mlflow.tracking.set_tracking_uri('http://' + MLFLOW_SERVER + ':5005')\n",
    "EXPERIMENT_NAME = 'kaggle_openimage_mask_rcnn_v1.0'\n",
    "mlflow.set_experiment(EXPERIMENT_NAME)\n",
    "\n",
    "# os.environ['AZURE_STORAGE_ACCESS_KEY'] = ''"
   ]
  },
  {
   "cell_type": "code",
   "execution_count": 2,
   "metadata": {
    "ExecuteTime": {
     "end_time": "2019-08-14T18:53:22.122214Z",
     "start_time": "2019-08-14T18:51:12.500802Z"
    }
   },
   "outputs": [],
   "source": [
    "classes = st.load_classes()\n",
    "annotations = st.load_annotations_by_image()\n",
    "\n",
    "val_data = st.load_dataset(annotations, DATA_DIR, classes, is_train=False)"
   ]
  },
  {
   "cell_type": "markdown",
   "metadata": {},
   "source": [
    "## Utility Functions"
   ]
  },
  {
   "cell_type": "code",
   "execution_count": null,
   "metadata": {
    "ExecuteTime": {
     "end_time": "2019-08-12T18:45:07.591778Z",
     "start_time": "2019-08-12T18:45:07.587742Z"
    },
    "scrolled": true
   },
   "outputs": [],
   "source": [
    "def get_ax(rows=1, cols=1, size=8):\n",
    "    \"\"\"Return a Matplotlib Axes array to be used in\n",
    "    all visualizations in the notebook. Provide a\n",
    "    central point to control graph sizes.\n",
    "    \n",
    "    Change the default size attribute to control the size\n",
    "    of rendered images\n",
    "    \"\"\"\n",
    "    _, ax = plt.subplots(rows, cols, figsize=(size*cols, size*rows))\n",
    "    return ax"
   ]
  },
  {
   "cell_type": "markdown",
   "metadata": {},
   "source": [
    "## Load dataset and display samples"
   ]
  },
  {
   "cell_type": "code",
   "execution_count": null,
   "metadata": {
    "ExecuteTime": {
     "end_time": "2019-08-14T18:43:12.165946Z",
     "start_time": "2019-08-14T18:43:07.678391Z"
    },
    "scrolled": true
   },
   "outputs": [],
   "source": [
    "from mrcnn import visualize\n",
    "import numpy as np\n",
    "\n",
    "# Load and display random samples ... sanity check for data load\n",
    "image_ids = np.random.choice(val_data.image_ids, 2)\n",
    "for image_id in image_ids:\n",
    "    image = val_data.load_image(image_id)\n",
    "    mask, class_ids = val_data.load_mask(image_id)\n",
    "    visualize.display_top_masks(image, mask, class_ids, val_data.class_names)"
   ]
  },
  {
   "cell_type": "markdown",
   "metadata": {},
   "source": [
    "## Train"
   ]
  },
  {
   "cell_type": "code",
   "execution_count": 5,
   "metadata": {
    "ExecuteTime": {
     "end_time": "2019-08-14T18:58:57.156292Z",
     "start_time": "2019-08-14T18:58:57.147539Z"
    },
    "scrolled": true
   },
   "outputs": [],
   "source": [
    "# Train the head branches\n",
    "# Passing layers=\"heads\" freezes all layers except the head\n",
    "# layers. You can also pass a regular expression to select\n",
    "# which layers to train by name pattern.\n",
    "\n",
    "def log_params(pz):\n",
    "    for k,v in pz.items():\n",
    "        mlflow.log_param(k,v)\n",
    "\n",
    "        \n",
    "class InferenceConfig(u.KaggleConfig):\n",
    "    GPU_COUNT = 1\n",
    "    IMAGES_PER_GPU = 2\n",
    "    BATCH_SIZE = 10\n",
    "\n",
    "inf_config = InferenceConfig()\n",
    "\n",
    "\n",
    "def train(model, train_data, val_data, params):\n",
    "    with mlflow.start_run():\n",
    "        \n",
    "#         model.train(dataset_train, dataset_val, \n",
    "#                     learning_rate=params['learn_rate'], \n",
    "#                     epochs=params['epochs'], \n",
    "#                     layers=params['layers'])\n",
    "\n",
    "        log_params(params)\n",
    "        \n",
    "        #Inference to get mAP\n",
    "        inf_model = modellib.MaskRCNN(mode=\"inference\", config=inf_config, model_dir=MODEL_DIR)\n",
    "        model_path = inf_model.find_last()\n",
    "        inf_model.load_weights(model_path, by_name=True)\n",
    "        mAP = u.eval_mAP(inf_model, val_data, inf_config, params['mAP_sample_size'])\n",
    "        \n",
    "        mlflow.log_metric('mAP', mAP)\n",
    "        \n",
    "        return model_path, mAP\n",
    "        #TODO inference and record score\n",
    "    \n",
    "    \n",
    "# mlflow.log_param('Code_Version_Git_Hash',git_hash)\n",
    "\n",
    "# predictions = clf.predict(X_test)\n",
    "\n",
    "# mlflow.log_metric('AUC of ROC', skm.roc_auc_score(y_test,predictions))\n",
    "\n",
    "# pickle.dump(clf,open(model_filepath,'wb'))\n",
    "# mlflow.log_artifact(model_filepath)"
   ]
  },
  {
   "cell_type": "code",
   "execution_count": 6,
   "metadata": {
    "ExecuteTime": {
     "end_time": "2019-08-14T19:00:01.564305Z",
     "start_time": "2019-08-14T18:59:00.720416Z"
    }
   },
   "outputs": [
    {
     "name": "stdout",
     "output_type": "stream",
     "text": [
      "here_00\n",
      "here_01\n",
      "here_02\n",
      "hereHere\n",
      "here\n",
      "here1\n",
      "here2\n",
      "Re-starting from epoch 50\n",
      "here3\n",
      "here4\n",
      "here5\n"
     ]
    },
    {
     "data": {
      "text/plain": [
       "('/home/nbuser/repo/logs/kaggle20190812T2002/mask_rcnn_kaggle_0050.h5',\n",
       " 0.048665468299930736)"
      ]
     },
     "execution_count": 6,
     "metadata": {},
     "output_type": "execute_result"
    }
   ],
   "source": [
    "\n",
    "\n",
    "# params = {'learning_rate' : 0.00001,\n",
    "#           'epochs' : 5,\n",
    "#           'layers' : 'all'\n",
    "#          }\n",
    "\n",
    "config = u.KaggleConfig()\n",
    "\n",
    "print(\"here_00\")\n",
    "model = modellib.MaskRCNN(mode=\"training\", config=config, model_dir=MODEL_DIR)\n",
    "\n",
    "print(\"here_01\")\n",
    "\n",
    "init_with = \"coco\"  # imagenet, coco, or last\n",
    "\n",
    "if init_with == \"imagenet\":\n",
    "    model.load_weights(model.get_imagenet_weights(), by_name=True)\n",
    "elif init_with == \"coco\":\n",
    "    model.load_weights(COCO_MODEL_PATH, by_name=True,\n",
    "                       exclude=[\"mrcnn_class_logits\", \"mrcnn_bbox_fc\", \n",
    "                                \"mrcnn_bbox\", \"mrcnn_mask\"])\n",
    "elif init_with == \"last\":\n",
    "    model.load_weights(model.find_last(), by_name=True)\n",
    "\n",
    "    \n",
    "params = {'learning_rate' : config.LEARNING_RATE,\n",
    "          'epochs' : 5,\n",
    "          'layers' : 'heads',\n",
    "          'mAP_sample_size' : 50,\n",
    "         }\n",
    "    \n",
    "print(\"here_02\")\n",
    "train(model, None, val_data, params)"
   ]
  }
 ],
 "metadata": {
  "kernelspec": {
   "display_name": "Python 3",
   "language": "python",
   "name": "python3"
  },
  "language_info": {
   "codemirror_mode": {
    "name": "ipython",
    "version": 3
   },
   "file_extension": ".py",
   "mimetype": "text/x-python",
   "name": "python",
   "nbconvert_exporter": "python",
   "pygments_lexer": "ipython3",
   "version": "3.5.2"
  },
  "toc": {
   "base_numbering": 1,
   "nav_menu": {},
   "number_sections": true,
   "sideBar": true,
   "skip_h1_title": false,
   "title_cell": "Table of Contents",
   "title_sidebar": "Contents",
   "toc_cell": false,
   "toc_position": {
    "height": "calc(100% - 180px)",
    "left": "10px",
    "top": "150px",
    "width": "295px"
   },
   "toc_section_display": true,
   "toc_window_display": true
  }
 },
 "nbformat": 4,
 "nbformat_minor": 2
}
