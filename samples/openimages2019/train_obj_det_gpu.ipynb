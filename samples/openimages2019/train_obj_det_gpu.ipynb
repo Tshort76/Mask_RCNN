{
 "cells": [
  {
   "cell_type": "markdown",
   "metadata": {},
   "source": [
    "# Mask R-CNN - Train on Shapes Dataset\n",
    "\n",
    "\n",
    "This notebook shows how to train Mask R-CNN on your own dataset. To keep things simple we use a synthetic dataset of shapes (squares, triangles, and circles) which enables fast training. You'd still need a GPU, though, because the network backbone is a Resnet101, which would be too slow to train on a CPU. On a GPU, you can start to get okay-ish results in a few minutes, and good results in less than an hour.\n",
    "\n",
    "The code of the *Shapes* dataset is included below. It generates images on the fly, so it doesn't require downloading any data. And it can generate images of any size, so we pick a small image size to train faster. "
   ]
  },
  {
   "cell_type": "markdown",
   "metadata": {},
   "source": [
    "# Basic Imports"
   ]
  },
  {
   "cell_type": "code",
   "execution_count": null,
   "metadata": {
    "ExecuteTime": {
     "end_time": "2019-09-11T18:33:41.941152Z",
     "start_time": "2019-09-11T18:33:41.045687Z"
    },
    "scrolled": true
   },
   "outputs": [],
   "source": [
    "import os\n",
    "import sys\n",
    "import random\n",
    "import math\n",
    "import re\n",
    "import time\n",
    "import numpy as np\n",
    "import cv2\n",
    "import matplotlib\n",
    "import matplotlib.pyplot as plt\n",
    "\n",
    "# Root directory of the project\n",
    "ROOT_DIR = os.path.abspath(\"../../\")\n",
    "\n",
    "# Import Mask RCNN\n",
    "sys.path.append(ROOT_DIR)  # To find local version of the library\n",
    "from mrcnn.config import Config\n",
    "from mrcnn import utils\n",
    "import mrcnn.model as modellib\n",
    "from mrcnn import visualize\n",
    "from mrcnn.model import log\n",
    "\n",
    "from skimage.draw import rectangle\n",
    "\n",
    "%matplotlib inline \n",
    "\n",
    "# Directory to save logs and trained model\n",
    "MODEL_DIR = os.path.join(ROOT_DIR, \"logs\")\n",
    "\n",
    "DATA_DIR = os.path.join(ROOT_DIR, \"../data\")\n",
    "\n",
    "# Local path to trained weights file\n",
    "COCO_MODEL_PATH = os.path.join(ROOT_DIR, \"mask_rcnn_coco.h5\")\n",
    "\n",
    "#Make only 1 GPU visible\n",
    "!export HIP_VISIBLE_DEVICES=2,3\n",
    "\n",
    "#Set which GPU devices' memory should be accessible to running GPUs\n",
    "os.environ[\"CUDA_VISIBLE_DEVICES\"]=\"2,3\"\n",
    "# os.environ[\"CUDA_VISIBLE_DEVICES\"]=\"-1\" # Use no GPUs\n",
    "\n",
    "# Download COCO trained weights from Releases if needed\n",
    "# if not os.path.exists(COCO_MODEL_PATH):\n",
    "#     utils.download_trained_weights(COCO_MODEL_PATH)"
   ]
  },
  {
   "cell_type": "markdown",
   "metadata": {},
   "source": [
    "## Pull in annotations from database (from Simplot)"
   ]
  },
  {
   "cell_type": "code",
   "execution_count": null,
   "metadata": {
    "ExecuteTime": {
     "end_time": "2019-09-11T18:35:25.342001Z",
     "start_time": "2019-09-11T18:34:05.226948Z"
    }
   },
   "outputs": [],
   "source": [
    "import pyodbc\n",
    "import os\n",
    "import pandas as pd\n",
    "\n",
    "DATA_DIR = os.path.join(ROOT_DIR, \"../data\")\n",
    "\n",
    "COCO_MODEL_PATH = os.path.join(DATA_DIR, \"mask_rcnn_coco.h5\")\n",
    "\n",
    "ANNOTATION_COLS = ['XMax','XMin','YMin','YMax','LabelDescription']\n",
    "\n",
    "passwd = os.environ['dgs_sandbox_pwd']\n",
    "\n",
    "conn = pyodbc.connect('DSN=BIdevDatabase;'\n",
    "                      'Database=Sandbox;'\n",
    "                      'UID=DGSuser;'\n",
    "                      'PWD=' + passwd)\n",
    "\n",
    "\n",
    "class_descriptions = pd.read_sql(\"SELECT LabelName, LabelDescription from [kaggle].[Class_Description]\",conn)\n",
    "\n",
    "#add 1 since Background class is automatically added at index 0\n",
    "class_descriptions['LabelID'] = class_descriptions.index + 1\n",
    "\n",
    "display(class_descriptions.head())\n",
    "\n",
    "#This now holds the annotation information.\n",
    "bboxes = pd.read_sql(\"SELECT ImageID, XMax, XMin, YMin, YMax, LabelName FROM [Sandbox].[kaggle].[Combined_Set_Detection_BBox]\", conn)\n",
    "\n",
    "annotations = pd.merge(bboxes,class_descriptions, on='LabelName',how='inner')\n",
    "\n",
    "display(annotations.head())\n",
    "\n",
    "# This now holds the list of images\n",
    "image_paths = pd.read_sql(\"SELECT ImageID, RelativePath, Height, Width, Mode from [kaggle].[Image_Path]\", conn)\n",
    "\n",
    "display(image_paths.head())\n",
    "\n",
    "# Inner join on the two dataframes, so we now have images combined with associated annotations\n",
    "annotated_image_paths = pd.merge(image_paths,annotations, on='ImageID',how='inner')\n",
    "\n",
    "display(annotated_image_paths.head())"
   ]
  },
  {
   "cell_type": "markdown",
   "metadata": {
    "heading_collapsed": true
   },
   "source": [
    "## Configurations"
   ]
  },
  {
   "cell_type": "code",
   "execution_count": null,
   "metadata": {
    "ExecuteTime": {
     "end_time": "2019-08-12T19:19:24.071345Z",
     "start_time": "2019-08-12T19:19:24.059946Z"
    },
    "hidden": true,
    "scrolled": true
   },
   "outputs": [],
   "source": [
    "class KaggleConfig(Config):\n",
    "    \n",
    "    NAME = \"kaggle\"\n",
    "\n",
    "    #TODO experiment with this\n",
    "    GPU_COUNT = 2\n",
    "    IMAGES_PER_GPU = 2  # TODO how many can we use, authors had 2 for 12 GB, we have 32 GB so ...\n",
    "\n",
    "    # Number of classes (including background)\n",
    "    NUM_CLASSES = 1 + len(class_descriptions)  # + 1 for background\n",
    "\n",
    "    #TODO experiment with this\n",
    "    # Use small images for faster training. Set the limits of the small side\n",
    "    # the large side, and that determines the image shape.\n",
    "    IMAGE_MIN_DIM = 512\n",
    "    IMAGE_MAX_DIM = 512\n",
    "\n",
    "    # Use a small epoch since the data is simple\n",
    "    STEPS_PER_EPOCH = 100\n",
    "    \n",
    "    # Skip detections with < 90% confidence\n",
    "    DETECTION_MIN_CONFIDENCE = 0.75\n",
    "    \n",
    "config = KaggleConfig()\n",
    "config.display()"
   ]
  },
  {
   "cell_type": "markdown",
   "metadata": {},
   "source": [
    "## Subclass utils.Dataset for entire experiment"
   ]
  },
  {
   "cell_type": "code",
   "execution_count": null,
   "metadata": {
    "ExecuteTime": {
     "end_time": "2019-08-12T19:19:24.086287Z",
     "start_time": "2019-08-12T19:19:24.074277Z"
    }
   },
   "outputs": [],
   "source": [
    "class FullKaggleImageDatasetSeg(utils.Dataset):\n",
    "         \n",
    "    def load_kaggle_images(self, dataset_dir, grouped_by_images):\n",
    "        \"\"\"Load a subset of the image dataset.\n",
    "        dataset_dir: The root directory of the image dataset.\n",
    "        classes: Dataframe : If provided, only loads images that have the given classes.\n",
    "        \"\"\"\n",
    "\n",
    "        # Add classes, BG is automatically added at index 0\n",
    "        for _,row in class_descriptions.iterrows():\n",
    "            self.add_class(\"openImages\", row['LabelID'], row['LabelDescription'])\n",
    "        \n",
    "#         X = 0\n",
    "        \n",
    "        # Add images\n",
    "        for i,df in grouped_by_images:    \n",
    "            row = df.iloc[0]\n",
    "            \n",
    "#             X += 1\n",
    "#             if X%10000 == 0:\n",
    "#                 print(X)\n",
    "            \n",
    "            self.add_image(\n",
    "                \"openImages\", image_id=i,\n",
    "                path=os.path.join(dataset_dir, row['RelativePath']),\n",
    "                width=row[\"Width\"],\n",
    "                height=row[\"Height\"],\n",
    "                annotations=df)\n",
    "    \n",
    "\n",
    "    def load_mask(self, image_id):\n",
    "        \"\"\"Generate instance masks for an image.\n",
    "       Returns:\n",
    "        masks: A bool array of shape [height, width, instance count] with\n",
    "            one mask per instance.\n",
    "        class_ids: a 1D array of class IDs of the instance masks.\n",
    "        \"\"\"\n",
    "        \n",
    "        # Create rectangular bounding box since we are doing object detection, not segmentation\n",
    "        # desired dimension is [height, width, instance_count]\n",
    "        img = self.image_info[image_id]\n",
    "        \n",
    "        mask = np.zeros([img[\"height\"], img[\"width\"], len(img[\"annotations\"])],\n",
    "                        dtype=np.uint8)\n",
    "        \n",
    "        for i,(_,p) in enumerate(img[\"annotations\"].iterrows()):\n",
    "            # Create rectangular bounding box since we are doing object detection, not segmentation\n",
    "    \n",
    "            xmax = int(img[\"width\"]*p['XMax'])\n",
    "            xmin = int(img[\"width\"]*p['XMin'])\n",
    "            ymin = int(img[\"height\"]*p['YMin'])\n",
    "            ymax = int(img[\"height\"]*p['YMax'])\n",
    "            \n",
    "            start = (ymin, xmin)  #top left corner ... are coordinates reversed?\n",
    "            end = (ymax, xmax)  #height and width\n",
    "            rr, cc = rectangle(start, end=end, shape=(img[\"height\"],img[\"width\"]))\n",
    "            \n",
    "            mask[rr, cc, i] = 1\n",
    "\n",
    "        \n",
    "        # Return mask, and array of class IDs of each instance.\n",
    "        return mask.astype(np.bool), np.array(img['annotations']['LabelID'].values, dtype=np.int32)\n",
    "\n",
    "    def image_reference(self, image_id):\n",
    "        return self.image_info[image_id]['path']\n",
    "    "
   ]
  },
  {
   "cell_type": "markdown",
   "metadata": {},
   "source": [
    "## Utility Functions"
   ]
  },
  {
   "cell_type": "code",
   "execution_count": null,
   "metadata": {
    "ExecuteTime": {
     "end_time": "2019-08-12T18:45:07.591778Z",
     "start_time": "2019-08-12T18:45:07.587742Z"
    },
    "scrolled": true
   },
   "outputs": [],
   "source": [
    "def get_ax(rows=1, cols=1, size=8):\n",
    "    \"\"\"Return a Matplotlib Axes array to be used in\n",
    "    all visualizations in the notebook. Provide a\n",
    "    central point to control graph sizes.\n",
    "    \n",
    "    Change the default size attribute to control the size\n",
    "    of rendered images\n",
    "    \"\"\"\n",
    "    _, ax = plt.subplots(rows, cols, figsize=(size*cols, size*rows))\n",
    "    return ax"
   ]
  },
  {
   "cell_type": "markdown",
   "metadata": {},
   "source": [
    "## Load dataset and display samples"
   ]
  },
  {
   "cell_type": "markdown",
   "metadata": {},
   "source": [
    "### Instantiate the Full Kaggle Image Dataset classes"
   ]
  },
  {
   "cell_type": "code",
   "execution_count": null,
   "metadata": {
    "ExecuteTime": {
     "end_time": "2019-08-12T19:34:44.791055Z",
     "start_time": "2019-08-12T19:19:24.088501Z"
    }
   },
   "outputs": [],
   "source": [
    "val_paths = annotated_image_paths[annotated_image_paths['RelativePath'].str.contains('validation',regex=False)]\n",
    "train_paths = annotated_image_paths[annotated_image_paths['RelativePath'].str.contains('train',regex=False)]\n",
    "\n",
    "val_grouped = val_paths.groupby('ImageID')\n",
    "train_grouped = train_paths.groupby('ImageID')\n",
    "\n",
    "# Training dataset\n",
    "dataset_train = FullKaggleImageDataset()\n",
    "dataset_train.load_kaggle_images(DATA_DIR, train_grouped)\n",
    "dataset_train.prepare()\n",
    "\n",
    "# Validation dataset\n",
    "dataset_val = FullKaggleImageDataset()\n",
    "dataset_val.load_kaggle_images(DATA_DIR, val_grouped)\n",
    "dataset_val.prepare()"
   ]
  },
  {
   "cell_type": "code",
   "execution_count": null,
   "metadata": {
    "scrolled": true
   },
   "outputs": [],
   "source": [
    "# Load and display random samples ... sanity check for data load\n",
    "image_ids = np.random.choice(dataset_train.image_ids, 10)\n",
    "for image_id in image_ids:\n",
    "    image = dataset_train.load_image(image_id)\n",
    "    mask, class_ids = dataset_train.load_mask(image_id)\n",
    "    visualize.display_top_masks(image, mask, class_ids, dataset_train.class_names)"
   ]
  },
  {
   "cell_type": "markdown",
   "metadata": {},
   "source": [
    "## Create Model"
   ]
  },
  {
   "cell_type": "code",
   "execution_count": null,
   "metadata": {
    "ExecuteTime": {
     "end_time": "2019-08-12T20:02:47.018056Z",
     "start_time": "2019-08-12T20:02:37.810780Z"
    },
    "scrolled": true
   },
   "outputs": [],
   "source": [
    "# Create model in training mode\n",
    "model = modellib.MaskRCNN(mode=\"training\", config=config,\n",
    "                          model_dir=MODEL_DIR)"
   ]
  },
  {
   "cell_type": "code",
   "execution_count": null,
   "metadata": {
    "ExecuteTime": {
     "end_time": "2019-08-12T20:02:57.208051Z",
     "start_time": "2019-08-12T20:02:48.205090Z"
    },
    "scrolled": true
   },
   "outputs": [],
   "source": [
    "# Which weights to start with?\n",
    "init_with = \"coco\"  # imagenet, coco, or last\n",
    "\n",
    "if init_with == \"imagenet\":\n",
    "    model.load_weights(model.get_imagenet_weights(), by_name=True)\n",
    "elif init_with == \"coco\":\n",
    "    # Load weights trained on MS COCO, but skip layers that\n",
    "    # are different due to the different number of classes\n",
    "    # See README for instructions to download the COCO weights\n",
    "    model.load_weights(COCO_MODEL_PATH, by_name=True,\n",
    "                       exclude=[\"mrcnn_class_logits\", \"mrcnn_bbox_fc\", \n",
    "                                \"mrcnn_bbox\", \"mrcnn_mask\"])\n",
    "elif init_with == \"last\":\n",
    "    # Load the last model you trained and continue training\n",
    "    model.load_weights(model.find_last(), by_name=True)"
   ]
  },
  {
   "cell_type": "markdown",
   "metadata": {},
   "source": [
    "## Training\n",
    "\n",
    "Train in two stages:\n",
    "1. Only the heads. Here we're freezing all the backbone layers and training only the randomly initialized layers (i.e. the ones that we didn't use pre-trained weights from MS COCO). To train only the head layers, pass `layers='heads'` to the `train()` function.\n",
    "\n",
    "2. Fine-tune all layers. For this simple example it's not necessary, but we're including it to show the process. Simply pass `layers=\"all` to train all layers."
   ]
  },
  {
   "cell_type": "code",
   "execution_count": null,
   "metadata": {
    "ExecuteTime": {
     "end_time": "2019-08-12T20:46:24.655530Z",
     "start_time": "2019-08-12T20:20:43.188651Z"
    },
    "scrolled": true
   },
   "outputs": [],
   "source": [
    "# Train the head branches\n",
    "# Passing layers=\"heads\" freezes all layers except the head\n",
    "# layers. You can also pass a regular expression to select\n",
    "# which layers to train by name pattern.\n",
    "\n",
    "def log_params(pz):\n",
    "    for k,v in pz.items():\n",
    "        mlflow.log_param(k,v)\n",
    "\n",
    "with mlflow.start_run():\n",
    "    model.train(dataset_train, dataset_val, \n",
    "                learning_rate=config.LEARNING_RATE, \n",
    "                epochs=50, \n",
    "                layers='heads')\n",
    "    \n",
    "    log_params(config)\n",
    "    \n",
    "    \n",
    "# mlflow.log_param('Code_Version_Git_Hash',git_hash)\n",
    "\n",
    "# predictions = clf.predict(X_test)\n",
    "\n",
    "# mlflow.log_metric('AUC of ROC', skm.roc_auc_score(y_test,predictions))\n",
    "\n",
    "# pickle.dump(clf,open(model_filepath,'wb'))\n",
    "# mlflow.log_artifact(model_filepath)"
   ]
  },
  {
   "cell_type": "code",
   "execution_count": null,
   "metadata": {
    "scrolled": true
   },
   "outputs": [],
   "source": [
    "# Fine tune all layers\n",
    "# Passing layers=\"all\" trains all layers. You can also \n",
    "# pass a regular expression to select which layers to\n",
    "# train by name pattern.\n",
    "model.train(dataset_train, dataset_val, \n",
    "            learning_rate=config.LEARNING_RATE / 10,\n",
    "            epochs=2, \n",
    "            layers=\"all\")"
   ]
  },
  {
   "cell_type": "code",
   "execution_count": null,
   "metadata": {
    "scrolled": true
   },
   "outputs": [],
   "source": [
    "# Save weights\n",
    "# Typically not needed because callbacks save after every epoch\n",
    "# Uncomment to save manually\n",
    "# model_path = os.path.join(MODEL_DIR, \"mask_rcnn_shapes.h5\")\n",
    "# model.keras_model.save_weights(model_path)"
   ]
  },
  {
   "cell_type": "markdown",
   "metadata": {},
   "source": [
    "## Detection"
   ]
  },
  {
   "cell_type": "code",
   "execution_count": null,
   "metadata": {
    "ExecuteTime": {
     "end_time": "2019-08-12T21:39:04.434862Z",
     "start_time": "2019-08-12T21:38:36.773445Z"
    },
    "scrolled": true
   },
   "outputs": [],
   "source": [
    "class InferenceConfig(KaggleConfig):\n",
    "    GPU_COUNT = 1\n",
    "    IMAGES_PER_GPU = 2\n",
    "\n",
    "inference_config = InferenceConfig()\n",
    "\n",
    "# Recreate the model in inference mode\n",
    "model = modellib.MaskRCNN(mode=\"inference\", \n",
    "                          config=inference_config,\n",
    "                          model_dir=MODEL_DIR)\n",
    "\n",
    "# Get path to saved weights\n",
    "# Either set a specific path or find last trained weights\n",
    "# model_path = os.path.join(ROOT_DIR, \".h5 file name here\")\n",
    "model_path = model.find_last()\n",
    "\n",
    "# Load trained weights\n",
    "print(\"Loading weights from \", model_path)\n",
    "model.load_weights(model_path, by_name=True)"
   ]
  },
  {
   "cell_type": "code",
   "execution_count": null,
   "metadata": {
    "ExecuteTime": {
     "end_time": "2019-08-12T21:39:05.216488Z",
     "start_time": "2019-08-12T21:39:04.437962Z"
    }
   },
   "outputs": [],
   "source": [
    "#test on a few random images\n",
    "image_ids = np.random.choice(dataset_val.image_ids, inference_config.BATCH_SIZE)\n",
    "\n",
    "images = []\n",
    "\n",
    "for iid in image_ids:\n",
    "    original_image, image_meta, gt_class_id, gt_bbox, gt_mask = modellib.load_image_gt(dataset_val, inference_config, iid, use_mini_mask=False)\n",
    "\n",
    "    visualize.display_instances(original_image, gt_bbox, gt_mask, gt_class_id, \n",
    "                            dataset_train.class_names, figsize=(8, 8))\n",
    "    \n",
    "    images.append(original_image)\n"
   ]
  },
  {
   "cell_type": "code",
   "execution_count": null,
   "metadata": {
    "ExecuteTime": {
     "end_time": "2019-08-12T21:52:12.122361Z",
     "start_time": "2019-08-12T21:52:10.305389Z"
    },
    "scrolled": true
   },
   "outputs": [],
   "source": [
    "results = model.detect(images, verbose=0)\n",
    "\n",
    "for i in range(len(results)):\n",
    "    r = results[i]\n",
    "    visualize.display_instances(images[i], r['rois'], r['masks'], r['class_ids'], dataset_val.class_names, r['scores'])"
   ]
  },
  {
   "cell_type": "markdown",
   "metadata": {},
   "source": [
    "## Evaluation"
   ]
  },
  {
   "cell_type": "code",
   "execution_count": null,
   "metadata": {
    "ExecuteTime": {
     "end_time": "2019-08-12T21:42:25.655886Z",
     "start_time": "2019-08-12T21:39:05.219096Z"
    }
   },
   "outputs": [],
   "source": [
    "# Compute VOC-Style mAP @ IoU=0.5\n",
    "# Running on 10 images. Increase for better accuracy.\n",
    "image_ids = np.random.choice(dataset_val.image_ids, 500)\n",
    "\n",
    "#each input is a tuple of form : image, image_meta, gt_class_id, gt_bbox, gt_mask\n",
    "inputs = [modellib.load_image_gt(dataset_val, inference_config, iid, use_mini_mask=False) for iid in image_ids]\n",
    "\n",
    "APs = []\n",
    "\n",
    "n = inference_config.BATCH_SIZE\n",
    "\n",
    "for i in range(0,len(image_ids),n): \n",
    "\n",
    "    curr_inputs = inputs[i:i+n]\n",
    "    \n",
    "    results = model.detect([inp[0] for inp in curr_inputs], verbose=0)\n",
    "    \n",
    "    for j in range(len(results)):\n",
    "        r = results[j]\n",
    "        # Compute AP\n",
    "        AP, precisions, recalls, overlaps =\\\n",
    "            utils.compute_ap(curr_inputs[j][3], curr_inputs[j][2], curr_inputs[j][4],\n",
    "                             r[\"rois\"], r[\"class_ids\"], r[\"scores\"], r['masks'])\n",
    "        APs.append(AP)\n",
    "    \n",
    "print(\"mAP: \", np.mean(APs))"
   ]
  }
 ],
 "metadata": {
  "kernelspec": {
   "display_name": "Python 3",
   "language": "python",
   "name": "python3"
  },
  "language_info": {
   "codemirror_mode": {
    "name": "ipython",
    "version": 3
   },
   "file_extension": ".py",
   "mimetype": "text/x-python",
   "name": "python",
   "nbconvert_exporter": "python",
   "pygments_lexer": "ipython3",
   "version": "3.6.8"
  },
  "toc": {
   "base_numbering": 1,
   "nav_menu": {},
   "number_sections": true,
   "sideBar": true,
   "skip_h1_title": false,
   "title_cell": "Table of Contents",
   "title_sidebar": "Contents",
   "toc_cell": false,
   "toc_position": {
    "height": "calc(100% - 180px)",
    "left": "10px",
    "top": "150px",
    "width": "295px"
   },
   "toc_section_display": true,
   "toc_window_display": true
  }
 },
 "nbformat": 4,
 "nbformat_minor": 2
}
