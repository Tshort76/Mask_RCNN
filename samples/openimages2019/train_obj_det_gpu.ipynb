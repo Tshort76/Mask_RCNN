{
 "cells": [
  {
   "cell_type": "markdown",
   "metadata": {},
   "source": [
    "# Mask R-CNN - Train on Shapes Dataset\n",
    "\n",
    "\n",
    "This notebook shows how to train Mask R-CNN on your own dataset. To keep things simple we use a synthetic dataset of shapes (squares, triangles, and circles) which enables fast training. You'd still need a GPU, though, because the network backbone is a Resnet101, which would be too slow to train on a CPU. On a GPU, you can start to get okay-ish results in a few minutes, and good results in less than an hour.\n",
    "\n",
    "The code of the *Shapes* dataset is included below. It generates images on the fly, so it doesn't require downloading any data. And it can generate images of any size, so we pick a small image size to train faster. "
   ]
  },
  {
   "cell_type": "code",
   "execution_count": 4,
   "metadata": {
    "ExecuteTime": {
     "end_time": "2019-09-11T18:33:41.941152Z",
     "start_time": "2019-09-11T18:33:41.045687Z"
    },
    "scrolled": true
   },
   "outputs": [],
   "source": [
    "import os\n",
    "import sys\n",
    "import random\n",
    "import math\n",
    "import re\n",
    "import time\n",
    "import numpy as np\n",
    "import cv2\n",
    "import matplotlib\n",
    "import matplotlib.pyplot as plt\n",
    "\n",
    "# Root directory of the project\n",
    "ROOT_DIR = os.path.abspath(\"../../\")\n",
    "\n",
    "# Import Mask RCNN\n",
    "sys.path.append(ROOT_DIR)  # To find local version of the library\n",
    "from mrcnn.config import Config\n",
    "from mrcnn import utils\n",
    "import mrcnn.model as modellib\n",
    "from mrcnn import visualize\n",
    "from mrcnn.model import log\n",
    "\n",
    "from skimage.draw import rectangle\n",
    "\n",
    "%matplotlib inline \n",
    "\n",
    "# Directory to save logs and trained model\n",
    "MODEL_DIR = os.path.join(ROOT_DIR, \"logs\")\n",
    "\n",
    "DATA_DIR = os.path.join(ROOT_DIR, \"../data\")\n",
    "\n",
    "# Local path to trained weights file\n",
    "COCO_MODEL_PATH = os.path.join(ROOT_DIR, \"mask_rcnn_coco.h5\")\n",
    "\n",
    "#Make GPUs visible\n",
    "# !export HIP_VISIBLE_DEVICES=0,1,2,3\n",
    "\n",
    "#Make only 1 GPU visible\n",
    "!export HIP_VISIBLE_DEVICES=2,3\n",
    "\n",
    "#Set which GPU devices' memory should be accessible to running GPUs\n",
    "os.environ[\"CUDA_VISIBLE_DEVICES\"]=\"2,3\"\n",
    "# os.environ[\"CUDA_VISIBLE_DEVICES\"]=\"-1\"\n",
    "\n",
    "# Download COCO trained weights from Releases if needed\n",
    "# if not os.path.exists(COCO_MODEL_PATH):\n",
    "#     utils.download_trained_weights(COCO_MODEL_PATH)"
   ]
  },
  {
   "cell_type": "markdown",
   "metadata": {},
   "source": [
    "## Pull in annotations from database (from Simplot)"
   ]
  },
  {
   "cell_type": "code",
   "execution_count": 5,
   "metadata": {
    "ExecuteTime": {
     "end_time": "2019-09-11T18:35:25.342001Z",
     "start_time": "2019-09-11T18:34:05.226948Z"
    }
   },
   "outputs": [
    {
     "data": {
      "text/html": [
       "<div>\n",
       "<style scoped>\n",
       "    .dataframe tbody tr th:only-of-type {\n",
       "        vertical-align: middle;\n",
       "    }\n",
       "\n",
       "    .dataframe tbody tr th {\n",
       "        vertical-align: top;\n",
       "    }\n",
       "\n",
       "    .dataframe thead th {\n",
       "        text-align: right;\n",
       "    }\n",
       "</style>\n",
       "<table border=\"1\" class=\"dataframe\">\n",
       "  <thead>\n",
       "    <tr style=\"text-align: right;\">\n",
       "      <th></th>\n",
       "      <th>LabelName</th>\n",
       "      <th>LabelDescription</th>\n",
       "      <th>LabelID</th>\n",
       "    </tr>\n",
       "  </thead>\n",
       "  <tbody>\n",
       "    <tr>\n",
       "      <th>0</th>\n",
       "      <td>/m/061hd_</td>\n",
       "      <td>Infant bed</td>\n",
       "      <td>1</td>\n",
       "    </tr>\n",
       "    <tr>\n",
       "      <th>1</th>\n",
       "      <td>/m/06m11</td>\n",
       "      <td>Rose</td>\n",
       "      <td>2</td>\n",
       "    </tr>\n",
       "    <tr>\n",
       "      <th>2</th>\n",
       "      <td>/m/03120</td>\n",
       "      <td>Flag</td>\n",
       "      <td>3</td>\n",
       "    </tr>\n",
       "    <tr>\n",
       "      <th>3</th>\n",
       "      <td>/m/01kb5b</td>\n",
       "      <td>Flashlight</td>\n",
       "      <td>4</td>\n",
       "    </tr>\n",
       "    <tr>\n",
       "      <th>4</th>\n",
       "      <td>/m/0120dh</td>\n",
       "      <td>Sea turtle</td>\n",
       "      <td>5</td>\n",
       "    </tr>\n",
       "  </tbody>\n",
       "</table>\n",
       "</div>"
      ],
      "text/plain": [
       "   LabelName LabelDescription  LabelID\n",
       "0  /m/061hd_       Infant bed        1\n",
       "1   /m/06m11             Rose        2\n",
       "2   /m/03120             Flag        3\n",
       "3  /m/01kb5b       Flashlight        4\n",
       "4  /m/0120dh       Sea turtle        5"
      ]
     },
     "metadata": {},
     "output_type": "display_data"
    },
    {
     "data": {
      "text/html": [
       "<div>\n",
       "<style scoped>\n",
       "    .dataframe tbody tr th:only-of-type {\n",
       "        vertical-align: middle;\n",
       "    }\n",
       "\n",
       "    .dataframe tbody tr th {\n",
       "        vertical-align: top;\n",
       "    }\n",
       "\n",
       "    .dataframe thead th {\n",
       "        text-align: right;\n",
       "    }\n",
       "</style>\n",
       "<table border=\"1\" class=\"dataframe\">\n",
       "  <thead>\n",
       "    <tr style=\"text-align: right;\">\n",
       "      <th></th>\n",
       "      <th>ImageID</th>\n",
       "      <th>XMax</th>\n",
       "      <th>XMin</th>\n",
       "      <th>YMin</th>\n",
       "      <th>YMax</th>\n",
       "      <th>LabelName</th>\n",
       "      <th>LabelDescription</th>\n",
       "      <th>LabelID</th>\n",
       "    </tr>\n",
       "  </thead>\n",
       "  <tbody>\n",
       "    <tr>\n",
       "      <th>0</th>\n",
       "      <td>5a27bbe9ab1ede93</td>\n",
       "      <td>0.706875</td>\n",
       "      <td>0.026250</td>\n",
       "      <td>0.553571</td>\n",
       "      <td>0.999060</td>\n",
       "      <td>/m/04p0qw</td>\n",
       "      <td>Billiard table</td>\n",
       "      <td>47</td>\n",
       "    </tr>\n",
       "    <tr>\n",
       "      <th>1</th>\n",
       "      <td>2fe71cd9dc2acfdd</td>\n",
       "      <td>0.999333</td>\n",
       "      <td>0.000000</td>\n",
       "      <td>0.000000</td>\n",
       "      <td>0.998565</td>\n",
       "      <td>/m/04p0qw</td>\n",
       "      <td>Billiard table</td>\n",
       "      <td>47</td>\n",
       "    </tr>\n",
       "    <tr>\n",
       "      <th>2</th>\n",
       "      <td>ea2422b5f4c97b42</td>\n",
       "      <td>0.868228</td>\n",
       "      <td>0.000000</td>\n",
       "      <td>0.168945</td>\n",
       "      <td>0.431641</td>\n",
       "      <td>/m/04p0qw</td>\n",
       "      <td>Billiard table</td>\n",
       "      <td>47</td>\n",
       "    </tr>\n",
       "    <tr>\n",
       "      <th>3</th>\n",
       "      <td>ea2422b5f4c97b42</td>\n",
       "      <td>0.888726</td>\n",
       "      <td>0.000000</td>\n",
       "      <td>0.567383</td>\n",
       "      <td>0.999023</td>\n",
       "      <td>/m/04p0qw</td>\n",
       "      <td>Billiard table</td>\n",
       "      <td>47</td>\n",
       "    </tr>\n",
       "    <tr>\n",
       "      <th>4</th>\n",
       "      <td>2fef02bb3916fec3</td>\n",
       "      <td>0.481250</td>\n",
       "      <td>0.045833</td>\n",
       "      <td>0.402778</td>\n",
       "      <td>0.687963</td>\n",
       "      <td>/m/04p0qw</td>\n",
       "      <td>Billiard table</td>\n",
       "      <td>47</td>\n",
       "    </tr>\n",
       "  </tbody>\n",
       "</table>\n",
       "</div>"
      ],
      "text/plain": [
       "            ImageID      XMax      XMin      YMin      YMax  LabelName  \\\n",
       "0  5a27bbe9ab1ede93  0.706875  0.026250  0.553571  0.999060  /m/04p0qw   \n",
       "1  2fe71cd9dc2acfdd  0.999333  0.000000  0.000000  0.998565  /m/04p0qw   \n",
       "2  ea2422b5f4c97b42  0.868228  0.000000  0.168945  0.431641  /m/04p0qw   \n",
       "3  ea2422b5f4c97b42  0.888726  0.000000  0.567383  0.999023  /m/04p0qw   \n",
       "4  2fef02bb3916fec3  0.481250  0.045833  0.402778  0.687963  /m/04p0qw   \n",
       "\n",
       "  LabelDescription  LabelID  \n",
       "0   Billiard table       47  \n",
       "1   Billiard table       47  \n",
       "2   Billiard table       47  \n",
       "3   Billiard table       47  \n",
       "4   Billiard table       47  "
      ]
     },
     "metadata": {},
     "output_type": "display_data"
    },
    {
     "data": {
      "text/html": [
       "<div>\n",
       "<style scoped>\n",
       "    .dataframe tbody tr th:only-of-type {\n",
       "        vertical-align: middle;\n",
       "    }\n",
       "\n",
       "    .dataframe tbody tr th {\n",
       "        vertical-align: top;\n",
       "    }\n",
       "\n",
       "    .dataframe thead th {\n",
       "        text-align: right;\n",
       "    }\n",
       "</style>\n",
       "<table border=\"1\" class=\"dataframe\">\n",
       "  <thead>\n",
       "    <tr style=\"text-align: right;\">\n",
       "      <th></th>\n",
       "      <th>ImageID</th>\n",
       "      <th>RelativePath</th>\n",
       "      <th>Height</th>\n",
       "      <th>Width</th>\n",
       "      <th>Mode</th>\n",
       "    </tr>\n",
       "  </thead>\n",
       "  <tbody>\n",
       "    <tr>\n",
       "      <th>0</th>\n",
       "      <td>95259d687d440013</td>\n",
       "      <td>train/95259d687d440013.jpg</td>\n",
       "      <td>1024</td>\n",
       "      <td>1024</td>\n",
       "      <td>RGB</td>\n",
       "    </tr>\n",
       "    <tr>\n",
       "      <th>1</th>\n",
       "      <td>ccce42a1f4ed2c96</td>\n",
       "      <td>train/ccce42a1f4ed2c96.jpg</td>\n",
       "      <td>1024</td>\n",
       "      <td>768</td>\n",
       "      <td>RGB</td>\n",
       "    </tr>\n",
       "    <tr>\n",
       "      <th>2</th>\n",
       "      <td>30723bdea123ccdf</td>\n",
       "      <td>validation/30723bdea123ccdf.jpg</td>\n",
       "      <td>683</td>\n",
       "      <td>1024</td>\n",
       "      <td>RGB</td>\n",
       "    </tr>\n",
       "    <tr>\n",
       "      <th>3</th>\n",
       "      <td>cba0bd46fcddd85d</td>\n",
       "      <td>train/cba0bd46fcddd85d.jpg</td>\n",
       "      <td>1024</td>\n",
       "      <td>1024</td>\n",
       "      <td>RGB</td>\n",
       "    </tr>\n",
       "    <tr>\n",
       "      <th>4</th>\n",
       "      <td>cc88539b5c74a0c0</td>\n",
       "      <td>train/cc88539b5c74a0c0.jpg</td>\n",
       "      <td>1024</td>\n",
       "      <td>1024</td>\n",
       "      <td>RGB</td>\n",
       "    </tr>\n",
       "  </tbody>\n",
       "</table>\n",
       "</div>"
      ],
      "text/plain": [
       "            ImageID                     RelativePath  Height  Width Mode\n",
       "0  95259d687d440013       train/95259d687d440013.jpg    1024   1024  RGB\n",
       "1  ccce42a1f4ed2c96       train/ccce42a1f4ed2c96.jpg    1024    768  RGB\n",
       "2  30723bdea123ccdf  validation/30723bdea123ccdf.jpg     683   1024  RGB\n",
       "3  cba0bd46fcddd85d       train/cba0bd46fcddd85d.jpg    1024   1024  RGB\n",
       "4  cc88539b5c74a0c0       train/cc88539b5c74a0c0.jpg    1024   1024  RGB"
      ]
     },
     "metadata": {},
     "output_type": "display_data"
    },
    {
     "data": {
      "text/html": [
       "<div>\n",
       "<style scoped>\n",
       "    .dataframe tbody tr th:only-of-type {\n",
       "        vertical-align: middle;\n",
       "    }\n",
       "\n",
       "    .dataframe tbody tr th {\n",
       "        vertical-align: top;\n",
       "    }\n",
       "\n",
       "    .dataframe thead th {\n",
       "        text-align: right;\n",
       "    }\n",
       "</style>\n",
       "<table border=\"1\" class=\"dataframe\">\n",
       "  <thead>\n",
       "    <tr style=\"text-align: right;\">\n",
       "      <th></th>\n",
       "      <th>ImageID</th>\n",
       "      <th>RelativePath</th>\n",
       "      <th>Height</th>\n",
       "      <th>Width</th>\n",
       "      <th>Mode</th>\n",
       "      <th>XMax</th>\n",
       "      <th>XMin</th>\n",
       "      <th>YMin</th>\n",
       "      <th>YMax</th>\n",
       "      <th>LabelName</th>\n",
       "      <th>LabelDescription</th>\n",
       "      <th>LabelID</th>\n",
       "    </tr>\n",
       "  </thead>\n",
       "  <tbody>\n",
       "    <tr>\n",
       "      <th>0</th>\n",
       "      <td>2fef4dd2f83feb18</td>\n",
       "      <td>train/2fef4dd2f83feb18.jpg</td>\n",
       "      <td>768</td>\n",
       "      <td>1024</td>\n",
       "      <td>RGB</td>\n",
       "      <td>0.697656</td>\n",
       "      <td>0.089844</td>\n",
       "      <td>0.000000</td>\n",
       "      <td>0.936458</td>\n",
       "      <td>/m/04yx4</td>\n",
       "      <td>Man</td>\n",
       "      <td>114</td>\n",
       "    </tr>\n",
       "    <tr>\n",
       "      <th>1</th>\n",
       "      <td>2fef4dd2f83feb18</td>\n",
       "      <td>train/2fef4dd2f83feb18.jpg</td>\n",
       "      <td>768</td>\n",
       "      <td>1024</td>\n",
       "      <td>RGB</td>\n",
       "      <td>0.388281</td>\n",
       "      <td>0.221875</td>\n",
       "      <td>0.000000</td>\n",
       "      <td>0.309375</td>\n",
       "      <td>/m/0dzct</td>\n",
       "      <td>Human face</td>\n",
       "      <td>280</td>\n",
       "    </tr>\n",
       "    <tr>\n",
       "      <th>2</th>\n",
       "      <td>2fef4dd2f83feb18</td>\n",
       "      <td>train/2fef4dd2f83feb18.jpg</td>\n",
       "      <td>768</td>\n",
       "      <td>1024</td>\n",
       "      <td>RGB</td>\n",
       "      <td>0.960156</td>\n",
       "      <td>0.778906</td>\n",
       "      <td>0.000000</td>\n",
       "      <td>0.300000</td>\n",
       "      <td>/m/0dzct</td>\n",
       "      <td>Human face</td>\n",
       "      <td>280</td>\n",
       "    </tr>\n",
       "    <tr>\n",
       "      <th>3</th>\n",
       "      <td>2fef4dd2f83feb18</td>\n",
       "      <td>train/2fef4dd2f83feb18.jpg</td>\n",
       "      <td>768</td>\n",
       "      <td>1024</td>\n",
       "      <td>RGB</td>\n",
       "      <td>0.332812</td>\n",
       "      <td>0.000000</td>\n",
       "      <td>0.864583</td>\n",
       "      <td>0.998958</td>\n",
       "      <td>/m/050gv4</td>\n",
       "      <td>Plate</td>\n",
       "      <td>473</td>\n",
       "    </tr>\n",
       "    <tr>\n",
       "      <th>4</th>\n",
       "      <td>2fef4dd2f83feb18</td>\n",
       "      <td>train/2fef4dd2f83feb18.jpg</td>\n",
       "      <td>768</td>\n",
       "      <td>1024</td>\n",
       "      <td>RGB</td>\n",
       "      <td>0.946875</td>\n",
       "      <td>0.605469</td>\n",
       "      <td>0.836458</td>\n",
       "      <td>0.998958</td>\n",
       "      <td>/m/050gv4</td>\n",
       "      <td>Plate</td>\n",
       "      <td>473</td>\n",
       "    </tr>\n",
       "  </tbody>\n",
       "</table>\n",
       "</div>"
      ],
      "text/plain": [
       "            ImageID                RelativePath  Height  Width Mode      XMax  \\\n",
       "0  2fef4dd2f83feb18  train/2fef4dd2f83feb18.jpg     768   1024  RGB  0.697656   \n",
       "1  2fef4dd2f83feb18  train/2fef4dd2f83feb18.jpg     768   1024  RGB  0.388281   \n",
       "2  2fef4dd2f83feb18  train/2fef4dd2f83feb18.jpg     768   1024  RGB  0.960156   \n",
       "3  2fef4dd2f83feb18  train/2fef4dd2f83feb18.jpg     768   1024  RGB  0.332812   \n",
       "4  2fef4dd2f83feb18  train/2fef4dd2f83feb18.jpg     768   1024  RGB  0.946875   \n",
       "\n",
       "       XMin      YMin      YMax  LabelName LabelDescription  LabelID  \n",
       "0  0.089844  0.000000  0.936458   /m/04yx4              Man      114  \n",
       "1  0.221875  0.000000  0.309375   /m/0dzct       Human face      280  \n",
       "2  0.778906  0.000000  0.300000   /m/0dzct       Human face      280  \n",
       "3  0.000000  0.864583  0.998958  /m/050gv4            Plate      473  \n",
       "4  0.605469  0.836458  0.998958  /m/050gv4            Plate      473  "
      ]
     },
     "metadata": {},
     "output_type": "display_data"
    }
   ],
   "source": [
    "import pyodbc\n",
    "import os\n",
    "import pandas as pd\n",
    "\n",
    "DATA_DIR = os.path.join(ROOT_DIR, \"../data\")\n",
    "\n",
    "COCO_MODEL_PATH = os.path.join(DATA_DIR, \"mask_rcnn_coco.h5\")\n",
    "\n",
    "ANNOTATION_COLS = ['XMax','XMin','YMin','YMax','LabelDescription']\n",
    "\n",
    "passwd = os.environ['dgs_sandbox_pwd']\n",
    "\n",
    "conn = pyodbc.connect('DSN=BIdevDatabase;'\n",
    "                      'Database=Sandbox;'\n",
    "                      'UID=DGSuser;'\n",
    "                      'PWD=' + passwd)\n",
    "\n",
    "\n",
    "class_descriptions = pd.read_sql(\"SELECT LabelName, LabelDescription from [kaggle].[Class_Description]\",conn)\n",
    "\n",
    "#add 1 since Background class is automatically added at index 0\n",
    "class_descriptions['LabelID'] = class_descriptions.index + 1\n",
    "\n",
    "display(class_descriptions.head())\n",
    "\n",
    "#This now holds the annotation information.\n",
    "bboxes = pd.read_sql(\"SELECT ImageID, XMax, XMin, YMin, YMax, LabelName FROM [Sandbox].[kaggle].[Combined_Set_Detection_BBox]\", conn)\n",
    "\n",
    "annotations = pd.merge(bboxes,class_descriptions, on='LabelName',how='inner')\n",
    "\n",
    "display(annotations.head())\n",
    "\n",
    "# This now holds the list of images\n",
    "image_paths = pd.read_sql(\"SELECT ImageID, RelativePath, Height, Width, Mode from [kaggle].[Image_Path]\", conn)\n",
    "\n",
    "display(image_paths.head())\n",
    "\n",
    "# Inner join on the two dataframes, so we now have images combined with associated annotations\n",
    "annotated_image_paths = pd.merge(image_paths,annotations, on='ImageID',how='inner')\n",
    "\n",
    "display(annotated_image_paths.head())"
   ]
  },
  {
   "cell_type": "markdown",
   "metadata": {
    "ExecuteTime": {
     "end_time": "2019-08-16T22:09:28.755323Z",
     "start_time": "2019-08-16T22:09:28.710017Z"
    }
   },
   "source": [
    "### Pull in segmentation info"
   ]
  },
  {
   "cell_type": "code",
   "execution_count": null,
   "metadata": {},
   "outputs": [],
   "source": [
    "seg_anns = pd.read_sql(\"SELECT ImageID, RelativePath, Height, Width, Mode from [kaggle].[Combined_Annotations_Object_Segmentation]\", conn)\n",
    "\n",
    "display(image_paths.head())"
   ]
  },
  {
   "cell_type": "markdown",
   "metadata": {
    "heading_collapsed": true
   },
   "source": [
    "## Configurations"
   ]
  },
  {
   "cell_type": "code",
   "execution_count": null,
   "metadata": {
    "ExecuteTime": {
     "end_time": "2019-08-12T19:19:24.071345Z",
     "start_time": "2019-08-12T19:19:24.059946Z"
    },
    "hidden": true,
    "scrolled": true
   },
   "outputs": [],
   "source": [
    "class KaggleConfig(Config):\n",
    "    \n",
    "    NAME = \"kaggle\"\n",
    "\n",
    "    #TODO experiment with this\n",
    "    GPU_COUNT = 2\n",
    "    IMAGES_PER_GPU = 2  # TODO how many can we use, authors had 2 for 12 GB, we have 32 GB so ...\n",
    "\n",
    "    # Number of classes (including background)\n",
    "    NUM_CLASSES = 1 + len(class_descriptions)  # + 1 for background\n",
    "\n",
    "    #TODO experiment with this\n",
    "    # Use small images for faster training. Set the limits of the small side\n",
    "    # the large side, and that determines the image shape.\n",
    "    IMAGE_MIN_DIM = 512\n",
    "    IMAGE_MAX_DIM = 512\n",
    "\n",
    "    # Use a small epoch since the data is simple\n",
    "    STEPS_PER_EPOCH = 100\n",
    "    \n",
    "    # Skip detections with < 90% confidence\n",
    "    DETECTION_MIN_CONFIDENCE = 0.75\n",
    "    \n",
    "config = KaggleConfig()\n",
    "config.display()"
   ]
  },
  {
   "cell_type": "markdown",
   "metadata": {},
   "source": [
    "## Subclass utils.Dataset for entire experiment"
   ]
  },
  {
   "cell_type": "code",
   "execution_count": null,
   "metadata": {
    "ExecuteTime": {
     "end_time": "2019-08-12T19:19:24.086287Z",
     "start_time": "2019-08-12T19:19:24.074277Z"
    }
   },
   "outputs": [],
   "source": [
    "class FullKaggleImageDatasetSeg(utils.Dataset):\n",
    "         \n",
    "    def load_kaggle_images(self, dataset_dir, grouped_by_images):\n",
    "        \"\"\"Load a subset of the image dataset.\n",
    "        dataset_dir: The root directory of the image dataset.\n",
    "        classes: Dataframe : If provided, only loads images that have the given classes.\n",
    "        \"\"\"\n",
    "\n",
    "        # Add classes, BG is automatically added at index 0\n",
    "        for _,row in class_descriptions.iterrows():\n",
    "            self.add_class(\"openImages\", row['LabelID'], row['LabelDescription'])\n",
    "        \n",
    "#         X = 0\n",
    "        \n",
    "        # Add images\n",
    "        for i,df in grouped_by_images:    \n",
    "            row = df.iloc[0]\n",
    "            \n",
    "#             X += 1\n",
    "#             if X%10000 == 0:\n",
    "#                 print(X)\n",
    "            \n",
    "            self.add_image(\n",
    "                \"openImages\", image_id=i,\n",
    "                path=os.path.join(dataset_dir, row['RelativePath']),\n",
    "                width=row[\"Width\"],\n",
    "                height=row[\"Height\"],\n",
    "                annotations=df)\n",
    "    \n",
    "\n",
    "    def load_mask(self, image_id):\n",
    "        \"\"\"Generate instance masks for an image.\n",
    "       Returns:\n",
    "        masks: A bool array of shape [height, width, instance count] with\n",
    "            one mask per instance.\n",
    "        class_ids: a 1D array of class IDs of the instance masks.\n",
    "        \"\"\"\n",
    "        \n",
    "        # Create rectangular bounding box since we are doing object detection, not segmentation\n",
    "        # desired dimension is [height, width, instance_count]\n",
    "        img = self.image_info[image_id]\n",
    "        \n",
    "        mask = np.zeros([img[\"height\"], img[\"width\"], len(img[\"annotations\"])],\n",
    "                        dtype=np.uint8)\n",
    "        \n",
    "        for i,(_,p) in enumerate(img[\"annotations\"].iterrows()):\n",
    "            # Create rectangular bounding box since we are doing object detection, not segmentation\n",
    "    \n",
    "            xmax = int(img[\"width\"]*p['XMax'])\n",
    "            xmin = int(img[\"width\"]*p['XMin'])\n",
    "            ymin = int(img[\"height\"]*p['YMin'])\n",
    "            ymax = int(img[\"height\"]*p['YMax'])\n",
    "            \n",
    "            start = (ymin, xmin)  #top left corner ... are coordinates reversed?\n",
    "            end = (ymax, xmax)  #height and width\n",
    "            rr, cc = rectangle(start, end=end, shape=(img[\"height\"],img[\"width\"]))\n",
    "            \n",
    "            mask[rr, cc, i] = 1\n",
    "\n",
    "        \n",
    "        # Return mask, and array of class IDs of each instance.\n",
    "        return mask.astype(np.bool), np.array(img['annotations']['LabelID'].values, dtype=np.int32)\n",
    "\n",
    "    def image_reference(self, image_id):\n",
    "        return self.image_info[image_id]['path']\n",
    "    "
   ]
  },
  {
   "cell_type": "markdown",
   "metadata": {},
   "source": [
    "## Utility Functions"
   ]
  },
  {
   "cell_type": "code",
   "execution_count": null,
   "metadata": {
    "ExecuteTime": {
     "end_time": "2019-08-12T18:45:07.591778Z",
     "start_time": "2019-08-12T18:45:07.587742Z"
    },
    "scrolled": true
   },
   "outputs": [],
   "source": [
    "def get_ax(rows=1, cols=1, size=8):\n",
    "    \"\"\"Return a Matplotlib Axes array to be used in\n",
    "    all visualizations in the notebook. Provide a\n",
    "    central point to control graph sizes.\n",
    "    \n",
    "    Change the default size attribute to control the size\n",
    "    of rendered images\n",
    "    \"\"\"\n",
    "    _, ax = plt.subplots(rows, cols, figsize=(size*cols, size*rows))\n",
    "    return ax"
   ]
  },
  {
   "cell_type": "markdown",
   "metadata": {},
   "source": [
    "## Load dataset and display samples"
   ]
  },
  {
   "cell_type": "markdown",
   "metadata": {},
   "source": [
    "### Instantiate the Full Kaggle Image Dataset classes"
   ]
  },
  {
   "cell_type": "code",
   "execution_count": null,
   "metadata": {
    "ExecuteTime": {
     "end_time": "2019-08-12T19:34:44.791055Z",
     "start_time": "2019-08-12T19:19:24.088501Z"
    }
   },
   "outputs": [],
   "source": [
    "val_paths = annotated_image_paths[annotated_image_paths['RelativePath'].str.contains('validation',regex=False)]\n",
    "train_paths = annotated_image_paths[annotated_image_paths['RelativePath'].str.contains('train',regex=False)]\n",
    "\n",
    "val_grouped = val_paths.groupby('ImageID')\n",
    "train_grouped = train_paths.groupby('ImageID')\n",
    "\n",
    "# Training dataset\n",
    "dataset_train = FullKaggleImageDataset()\n",
    "dataset_train.load_kaggle_images(DATA_DIR, train_grouped)\n",
    "dataset_train.prepare()\n",
    "\n",
    "# Validation dataset\n",
    "dataset_val = FullKaggleImageDataset()\n",
    "dataset_val.load_kaggle_images(DATA_DIR, val_grouped)\n",
    "dataset_val.prepare()"
   ]
  },
  {
   "cell_type": "code",
   "execution_count": null,
   "metadata": {
    "scrolled": true
   },
   "outputs": [],
   "source": [
    "# Load and display random samples ... sanity check for data load\n",
    "image_ids = np.random.choice(dataset_train.image_ids, 10)\n",
    "for image_id in image_ids:\n",
    "    image = dataset_train.load_image(image_id)\n",
    "    mask, class_ids = dataset_train.load_mask(image_id)\n",
    "    visualize.display_top_masks(image, mask, class_ids, dataset_train.class_names)"
   ]
  },
  {
   "cell_type": "markdown",
   "metadata": {},
   "source": [
    "## Create Model"
   ]
  },
  {
   "cell_type": "code",
   "execution_count": null,
   "metadata": {
    "ExecuteTime": {
     "end_time": "2019-08-12T20:02:47.018056Z",
     "start_time": "2019-08-12T20:02:37.810780Z"
    },
    "scrolled": true
   },
   "outputs": [],
   "source": [
    "# Create model in training mode\n",
    "model = modellib.MaskRCNN(mode=\"training\", config=config,\n",
    "                          model_dir=MODEL_DIR)"
   ]
  },
  {
   "cell_type": "code",
   "execution_count": null,
   "metadata": {
    "ExecuteTime": {
     "end_time": "2019-08-12T20:02:57.208051Z",
     "start_time": "2019-08-12T20:02:48.205090Z"
    },
    "scrolled": true
   },
   "outputs": [],
   "source": [
    "# Which weights to start with?\n",
    "init_with = \"coco\"  # imagenet, coco, or last\n",
    "\n",
    "if init_with == \"imagenet\":\n",
    "    model.load_weights(model.get_imagenet_weights(), by_name=True)\n",
    "elif init_with == \"coco\":\n",
    "    # Load weights trained on MS COCO, but skip layers that\n",
    "    # are different due to the different number of classes\n",
    "    # See README for instructions to download the COCO weights\n",
    "    model.load_weights(COCO_MODEL_PATH, by_name=True,\n",
    "                       exclude=[\"mrcnn_class_logits\", \"mrcnn_bbox_fc\", \n",
    "                                \"mrcnn_bbox\", \"mrcnn_mask\"])\n",
    "elif init_with == \"last\":\n",
    "    # Load the last model you trained and continue training\n",
    "    model.load_weights(model.find_last(), by_name=True)"
   ]
  },
  {
   "cell_type": "markdown",
   "metadata": {},
   "source": [
    "## Training\n",
    "\n",
    "Train in two stages:\n",
    "1. Only the heads. Here we're freezing all the backbone layers and training only the randomly initialized layers (i.e. the ones that we didn't use pre-trained weights from MS COCO). To train only the head layers, pass `layers='heads'` to the `train()` function.\n",
    "\n",
    "2. Fine-tune all layers. For this simple example it's not necessary, but we're including it to show the process. Simply pass `layers=\"all` to train all layers."
   ]
  },
  {
   "cell_type": "code",
   "execution_count": null,
   "metadata": {
    "ExecuteTime": {
     "end_time": "2019-08-12T20:46:24.655530Z",
     "start_time": "2019-08-12T20:20:43.188651Z"
    },
    "scrolled": true
   },
   "outputs": [],
   "source": [
    "# Train the head branches\n",
    "# Passing layers=\"heads\" freezes all layers except the head\n",
    "# layers. You can also pass a regular expression to select\n",
    "# which layers to train by name pattern.\n",
    "\n",
    "def log_params(pz):\n",
    "    for k,v in pz.items():\n",
    "        mlflow.log_param(k,v)\n",
    "\n",
    "with mlflow.start_run():\n",
    "    model.train(dataset_train, dataset_val, \n",
    "                learning_rate=config.LEARNING_RATE, \n",
    "                epochs=50, \n",
    "                layers='heads')\n",
    "    \n",
    "    log_params(config)\n",
    "    \n",
    "    \n",
    "# mlflow.log_param('Code_Version_Git_Hash',git_hash)\n",
    "\n",
    "# predictions = clf.predict(X_test)\n",
    "\n",
    "# mlflow.log_metric('AUC of ROC', skm.roc_auc_score(y_test,predictions))\n",
    "\n",
    "# pickle.dump(clf,open(model_filepath,'wb'))\n",
    "# mlflow.log_artifact(model_filepath)"
   ]
  },
  {
   "cell_type": "code",
   "execution_count": null,
   "metadata": {
    "scrolled": true
   },
   "outputs": [],
   "source": [
    "# Fine tune all layers\n",
    "# Passing layers=\"all\" trains all layers. You can also \n",
    "# pass a regular expression to select which layers to\n",
    "# train by name pattern.\n",
    "model.train(dataset_train, dataset_val, \n",
    "            learning_rate=config.LEARNING_RATE / 10,\n",
    "            epochs=2, \n",
    "            layers=\"all\")"
   ]
  },
  {
   "cell_type": "code",
   "execution_count": null,
   "metadata": {
    "scrolled": true
   },
   "outputs": [],
   "source": [
    "# Save weights\n",
    "# Typically not needed because callbacks save after every epoch\n",
    "# Uncomment to save manually\n",
    "# model_path = os.path.join(MODEL_DIR, \"mask_rcnn_shapes.h5\")\n",
    "# model.keras_model.save_weights(model_path)"
   ]
  },
  {
   "cell_type": "markdown",
   "metadata": {},
   "source": [
    "## Detection"
   ]
  },
  {
   "cell_type": "code",
   "execution_count": null,
   "metadata": {
    "ExecuteTime": {
     "end_time": "2019-08-12T21:39:04.434862Z",
     "start_time": "2019-08-12T21:38:36.773445Z"
    },
    "scrolled": true
   },
   "outputs": [],
   "source": [
    "class InferenceConfig(KaggleConfig):\n",
    "    GPU_COUNT = 1\n",
    "    IMAGES_PER_GPU = 2\n",
    "    BATCH_SIZE = 10\n",
    "\n",
    "inference_config = InferenceConfig()\n",
    "\n",
    "# Recreate the model in inference mode\n",
    "model = modellib.MaskRCNN(mode=\"inference\", \n",
    "                          config=inference_config,\n",
    "                          model_dir=MODEL_DIR)\n",
    "\n",
    "# Get path to saved weights\n",
    "# Either set a specific path or find last trained weights\n",
    "# model_path = os.path.join(ROOT_DIR, \".h5 file name here\")\n",
    "model_path = model.find_last()\n",
    "\n",
    "# Load trained weights\n",
    "print(\"Loading weights from \", model_path)\n",
    "model.load_weights(model_path, by_name=True)"
   ]
  },
  {
   "cell_type": "code",
   "execution_count": null,
   "metadata": {
    "ExecuteTime": {
     "end_time": "2019-08-12T21:39:05.216488Z",
     "start_time": "2019-08-12T21:39:04.437962Z"
    }
   },
   "outputs": [],
   "source": [
    "#test on a few random images\n",
    "image_ids = np.random.choice(dataset_val.image_ids, inference_config.BATCH_SIZE)\n",
    "\n",
    "images = []\n",
    "\n",
    "for iid in image_ids:\n",
    "    original_image, image_meta, gt_class_id, gt_bbox, gt_mask = modellib.load_image_gt(dataset_val, inference_config, iid, use_mini_mask=False)\n",
    "\n",
    "    visualize.display_instances(original_image, gt_bbox, gt_mask, gt_class_id, \n",
    "                            dataset_train.class_names, figsize=(8, 8))\n",
    "    \n",
    "    images.append(original_image)\n"
   ]
  },
  {
   "cell_type": "code",
   "execution_count": null,
   "metadata": {
    "ExecuteTime": {
     "end_time": "2019-08-12T21:52:12.122361Z",
     "start_time": "2019-08-12T21:52:10.305389Z"
    },
    "scrolled": true
   },
   "outputs": [],
   "source": [
    "results = model.detect(images, verbose=0)\n",
    "\n",
    "for i in range(len(results)):\n",
    "    r = results[i]\n",
    "    visualize.display_instances(images[i], r['rois'], r['masks'], r['class_ids'], dataset_val.class_names, r['scores'])"
   ]
  },
  {
   "cell_type": "markdown",
   "metadata": {},
   "source": [
    "## Evaluation"
   ]
  },
  {
   "cell_type": "code",
   "execution_count": null,
   "metadata": {
    "ExecuteTime": {
     "end_time": "2019-08-12T21:42:25.655886Z",
     "start_time": "2019-08-12T21:39:05.219096Z"
    }
   },
   "outputs": [],
   "source": [
    "# Compute VOC-Style mAP @ IoU=0.5\n",
    "# Running on 10 images. Increase for better accuracy.\n",
    "image_ids = np.random.choice(dataset_val.image_ids, 500)\n",
    "\n",
    "#each input is a tuple of form : image, image_meta, gt_class_id, gt_bbox, gt_mask\n",
    "inputs = [modellib.load_image_gt(dataset_val, inference_config, iid, use_mini_mask=False) for iid in image_ids]\n",
    "\n",
    "APs = []\n",
    "\n",
    "n = inference_config.BATCH_SIZE\n",
    "\n",
    "for i in range(0,len(image_ids),n): \n",
    "\n",
    "    curr_inputs = inputs[i:i+n]\n",
    "    \n",
    "    results = model.detect([inp[0] for inp in curr_inputs], verbose=0)\n",
    "    \n",
    "    for j in range(len(results)):\n",
    "        r = results[j]\n",
    "        # Compute AP\n",
    "        AP, precisions, recalls, overlaps =\\\n",
    "            utils.compute_ap(curr_inputs[j][3], curr_inputs[j][2], curr_inputs[j][4],\n",
    "                             r[\"rois\"], r[\"class_ids\"], r[\"scores\"], r['masks'])\n",
    "        APs.append(AP)\n",
    "    \n",
    "print(\"mAP: \", np.mean(APs))"
   ]
  }
 ],
 "metadata": {
  "kernelspec": {
   "display_name": "Python 3",
   "language": "python",
   "name": "python3"
  },
  "language_info": {
   "codemirror_mode": {
    "name": "ipython",
    "version": 3
   },
   "file_extension": ".py",
   "mimetype": "text/x-python",
   "name": "python",
   "nbconvert_exporter": "python",
   "pygments_lexer": "ipython3",
   "version": "3.6.8"
  },
  "toc": {
   "base_numbering": 1,
   "nav_menu": {},
   "number_sections": true,
   "sideBar": true,
   "skip_h1_title": false,
   "title_cell": "Table of Contents",
   "title_sidebar": "Contents",
   "toc_cell": false,
   "toc_position": {
    "height": "calc(100% - 180px)",
    "left": "10px",
    "top": "150px",
    "width": "295px"
   },
   "toc_section_display": true,
   "toc_window_display": true
  }
 },
 "nbformat": 4,
 "nbformat_minor": 2
}
